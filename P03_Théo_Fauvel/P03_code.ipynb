{
 "cells": [
  {
   "cell_type": "code",
   "execution_count": 1,
   "metadata": {},
   "outputs": [],
   "source": [
    "import numpy as np\n",
    "import pandas as pd\n",
    "data_vege = pd.read_csv(\"fr_vegetaux.csv\", sep=',')\n",
    "data_pop = pd.read_csv(\"fr_population.csv\", sep= ',')\n",
    "data_ani = pd.read_csv(\"fr_animaux.csv\", sep=',')\n",
    "data_sous_ali = pd.read_csv(\"fr_sousalimentation.csv\", sep=',')\n",
    "data_sous_ali = data_sous_ali.set_index('Zone') \n",
    "data_sous_ali = data_sous_ali.drop(['Chine, continentale', 'Chine, Taiwan Province de','Chine - RAS de Macao','Chine - RAS de Hong-Kong'], axis = 0)\n",
    "data_sous_ali = data_sous_ali.reset_index()\n",
    "data_sous_ali = data_sous_ali.drop(['Code Domaine', 'Domaine', 'Code Élément', 'Élément', 'Code Produit','Produit', 'Note', 'Description du Symbole', 'Symbole', 'Code année'], axis = 1)\n",
    "data_cere = pd.read_csv(\"fr_ce¦üre¦üales.csv\", sep=',')\n",
    "data_cere = data_cere.drop(['Code Domaine','Domaine','Symbole','Description du Symbole'], axis = 1)\n",
    "data_vege = data_vege.drop(['Symbole', 'Description du Symbole', 'Code Domaine', 'Domaine' , 'Code Élément'], axis = 1)\n",
    "data_pop = data_pop.drop(['Symbole', 'Description du Symbole', 'Code Domaine', 'Code année', 'Domaine', 'Code Élément','Élément','Produit'], axis = 1)\n",
    "data_pop = data_pop.rename(columns = {'Valeur' : 'Population'})\n",
    "data_ani = data_ani.drop(['Symbole', 'Description du Symbole', 'Code Domaine', 'Domaine', 'Code Élément'], axis = 1)\n",
    "data_pop = data_pop[['Code zone', 'Zone', 'Population', 'Année', 'Unité']]\n",
    "data_vege[\"Origine\"] = 'Vegetal'\n",
    "data_ani[\"Origine\"] = 'Animaux'"
   ]
  },
  {
   "cell_type": "markdown",
   "metadata": {},
   "source": [
    "# Projet 3 : Etude de santé publique"
   ]
  },
  {
   "cell_type": "markdown",
   "metadata": {},
   "source": [
    "## Question 1 : Calcul de la population mondiale en 2013"
   ]
  },
  {
   "cell_type": "markdown",
   "metadata": {},
   "source": [
    "Vérification de l'état des données et la présence de données NaN dans les populations avec la comparaison du nombre de 'code zone' et le nombre de population."
   ]
  },
  {
   "cell_type": "markdown",
   "metadata": {},
   "source": [
    "Si le nombre de code zone est plus important que le nombre de population alors le dataset comporte des valeurs manquantes."
   ]
  },
  {
   "cell_type": "code",
   "execution_count": 2,
   "metadata": {},
   "outputs": [
    {
     "data": {
      "text/html": [
       "<div>\n",
       "<style scoped>\n",
       "    .dataframe tbody tr th:only-of-type {\n",
       "        vertical-align: middle;\n",
       "    }\n",
       "\n",
       "    .dataframe tbody tr th {\n",
       "        vertical-align: top;\n",
       "    }\n",
       "\n",
       "    .dataframe thead th {\n",
       "        text-align: right;\n",
       "    }\n",
       "</style>\n",
       "<table border=\"1\" class=\"dataframe\">\n",
       "  <thead>\n",
       "    <tr style=\"text-align: right;\">\n",
       "      <th></th>\n",
       "      <th>Code zone</th>\n",
       "      <th>Population</th>\n",
       "      <th>Année</th>\n",
       "    </tr>\n",
       "  </thead>\n",
       "  <tbody>\n",
       "    <tr>\n",
       "      <th>count</th>\n",
       "      <td>175.000000</td>\n",
       "      <td>1.750000e+02</td>\n",
       "      <td>175.0</td>\n",
       "    </tr>\n",
       "    <tr>\n",
       "      <th>mean</th>\n",
       "      <td>126.720000</td>\n",
       "      <td>4.807996e+04</td>\n",
       "      <td>2013.0</td>\n",
       "    </tr>\n",
       "    <tr>\n",
       "      <th>std</th>\n",
       "      <td>75.168519</td>\n",
       "      <td>1.786327e+05</td>\n",
       "      <td>0.0</td>\n",
       "    </tr>\n",
       "    <tr>\n",
       "      <th>min</th>\n",
       "      <td>1.000000</td>\n",
       "      <td>5.400000e+01</td>\n",
       "      <td>2013.0</td>\n",
       "    </tr>\n",
       "    <tr>\n",
       "      <th>25%</th>\n",
       "      <td>64.500000</td>\n",
       "      <td>2.543500e+03</td>\n",
       "      <td>2013.0</td>\n",
       "    </tr>\n",
       "    <tr>\n",
       "      <th>50%</th>\n",
       "      <td>121.000000</td>\n",
       "      <td>9.413000e+03</td>\n",
       "      <td>2013.0</td>\n",
       "    </tr>\n",
       "    <tr>\n",
       "      <th>75%</th>\n",
       "      <td>188.500000</td>\n",
       "      <td>2.888150e+04</td>\n",
       "      <td>2013.0</td>\n",
       "    </tr>\n",
       "    <tr>\n",
       "      <th>max</th>\n",
       "      <td>351.000000</td>\n",
       "      <td>1.416667e+06</td>\n",
       "      <td>2013.0</td>\n",
       "    </tr>\n",
       "  </tbody>\n",
       "</table>\n",
       "</div>"
      ],
      "text/plain": [
       "        Code zone    Population   Année\n",
       "count  175.000000  1.750000e+02   175.0\n",
       "mean   126.720000  4.807996e+04  2013.0\n",
       "std     75.168519  1.786327e+05     0.0\n",
       "min      1.000000  5.400000e+01  2013.0\n",
       "25%     64.500000  2.543500e+03  2013.0\n",
       "50%    121.000000  9.413000e+03  2013.0\n",
       "75%    188.500000  2.888150e+04  2013.0\n",
       "max    351.000000  1.416667e+06  2013.0"
      ]
     },
     "execution_count": 2,
     "metadata": {},
     "output_type": "execute_result"
    }
   ],
   "source": [
    "data_pop.describe() #il n'y a pas de valeurs manquantes (1.75 +02 = 175)"
   ]
  },
  {
   "cell_type": "code",
   "execution_count": 3,
   "metadata": {},
   "outputs": [
    {
     "data": {
      "text/html": [
       "<div>\n",
       "<style scoped>\n",
       "    .dataframe tbody tr th:only-of-type {\n",
       "        vertical-align: middle;\n",
       "    }\n",
       "\n",
       "    .dataframe tbody tr th {\n",
       "        vertical-align: top;\n",
       "    }\n",
       "\n",
       "    .dataframe thead th {\n",
       "        text-align: right;\n",
       "    }\n",
       "</style>\n",
       "<table border=\"1\" class=\"dataframe\">\n",
       "  <thead>\n",
       "    <tr style=\"text-align: right;\">\n",
       "      <th></th>\n",
       "      <th>Code zone</th>\n",
       "      <th>Zone</th>\n",
       "      <th>Population</th>\n",
       "      <th>Année</th>\n",
       "      <th>Unité</th>\n",
       "    </tr>\n",
       "  </thead>\n",
       "  <tbody>\n",
       "    <tr>\n",
       "      <th>0</th>\n",
       "      <td>2</td>\n",
       "      <td>Afghanistan</td>\n",
       "      <td>30552</td>\n",
       "      <td>2013</td>\n",
       "      <td>1000 personnes</td>\n",
       "    </tr>\n",
       "    <tr>\n",
       "      <th>1</th>\n",
       "      <td>202</td>\n",
       "      <td>Afrique du Sud</td>\n",
       "      <td>52776</td>\n",
       "      <td>2013</td>\n",
       "      <td>1000 personnes</td>\n",
       "    </tr>\n",
       "    <tr>\n",
       "      <th>2</th>\n",
       "      <td>3</td>\n",
       "      <td>Albanie</td>\n",
       "      <td>3173</td>\n",
       "      <td>2013</td>\n",
       "      <td>1000 personnes</td>\n",
       "    </tr>\n",
       "    <tr>\n",
       "      <th>3</th>\n",
       "      <td>4</td>\n",
       "      <td>Algérie</td>\n",
       "      <td>39208</td>\n",
       "      <td>2013</td>\n",
       "      <td>1000 personnes</td>\n",
       "    </tr>\n",
       "    <tr>\n",
       "      <th>4</th>\n",
       "      <td>79</td>\n",
       "      <td>Allemagne</td>\n",
       "      <td>82727</td>\n",
       "      <td>2013</td>\n",
       "      <td>1000 personnes</td>\n",
       "    </tr>\n",
       "  </tbody>\n",
       "</table>\n",
       "</div>"
      ],
      "text/plain": [
       "   Code zone            Zone  Population  Année           Unité\n",
       "0          2     Afghanistan       30552   2013  1000 personnes\n",
       "1        202  Afrique du Sud       52776   2013  1000 personnes\n",
       "2          3         Albanie        3173   2013  1000 personnes\n",
       "3          4         Algérie       39208   2013  1000 personnes\n",
       "4         79       Allemagne       82727   2013  1000 personnes"
      ]
     },
     "execution_count": 3,
     "metadata": {},
     "output_type": "execute_result"
    }
   ],
   "source": [
    "data_pop.head()"
   ]
  },
  {
   "cell_type": "markdown",
   "metadata": {},
   "source": [
    "Passons maintenant aux calculs :"
   ]
  },
  {
   "cell_type": "code",
   "execution_count": 4,
   "metadata": {},
   "outputs": [
    {
     "data": {
      "text/plain": [
       "8413993000"
      ]
     },
     "execution_count": 4,
     "metadata": {},
     "output_type": "execute_result"
    }
   ],
   "source": [
    "data_pop = data_pop.drop([ 'Unité'], axis = 1)\n",
    "nb_total_humain = (data_pop.loc[:,'Population'].sum())*1000 \n",
    "nb_total_humain  "
   ]
  },
  {
   "cell_type": "markdown",
   "metadata": {},
   "source": [
    "Pour trouver les/l'anomalie(s), nous allons maintenant voir toutes les données supérieures à 100 millions dans le but de voir s'il y a des intrus."
   ]
  },
  {
   "cell_type": "code",
   "execution_count": 5,
   "metadata": {},
   "outputs": [
    {
     "data": {
      "text/html": [
       "<div>\n",
       "<style scoped>\n",
       "    .dataframe tbody tr th:only-of-type {\n",
       "        vertical-align: middle;\n",
       "    }\n",
       "\n",
       "    .dataframe tbody tr th {\n",
       "        vertical-align: top;\n",
       "    }\n",
       "\n",
       "    .dataframe thead th {\n",
       "        text-align: right;\n",
       "    }\n",
       "</style>\n",
       "<table border=\"1\" class=\"dataframe\">\n",
       "  <thead>\n",
       "    <tr style=\"text-align: right;\">\n",
       "      <th></th>\n",
       "      <th>Code zone</th>\n",
       "      <th>Zone</th>\n",
       "      <th>Population</th>\n",
       "      <th>Année</th>\n",
       "    </tr>\n",
       "  </thead>\n",
       "  <tbody>\n",
       "    <tr>\n",
       "      <th>14</th>\n",
       "      <td>16</td>\n",
       "      <td>Bangladesh</td>\n",
       "      <td>156595</td>\n",
       "      <td>2013</td>\n",
       "    </tr>\n",
       "    <tr>\n",
       "      <th>24</th>\n",
       "      <td>21</td>\n",
       "      <td>Brésil</td>\n",
       "      <td>200362</td>\n",
       "      <td>2013</td>\n",
       "    </tr>\n",
       "    <tr>\n",
       "      <th>33</th>\n",
       "      <td>351</td>\n",
       "      <td>Chine</td>\n",
       "      <td>1416667</td>\n",
       "      <td>2013</td>\n",
       "    </tr>\n",
       "    <tr>\n",
       "      <th>36</th>\n",
       "      <td>41</td>\n",
       "      <td>Chine, continentale</td>\n",
       "      <td>1385567</td>\n",
       "      <td>2013</td>\n",
       "    </tr>\n",
       "    <tr>\n",
       "      <th>55</th>\n",
       "      <td>231</td>\n",
       "      <td>États-Unis d'Amérique</td>\n",
       "      <td>320051</td>\n",
       "      <td>2013</td>\n",
       "    </tr>\n",
       "    <tr>\n",
       "      <th>57</th>\n",
       "      <td>185</td>\n",
       "      <td>Fédération de Russie</td>\n",
       "      <td>142834</td>\n",
       "      <td>2013</td>\n",
       "    </tr>\n",
       "    <tr>\n",
       "      <th>75</th>\n",
       "      <td>100</td>\n",
       "      <td>Inde</td>\n",
       "      <td>1252140</td>\n",
       "      <td>2013</td>\n",
       "    </tr>\n",
       "    <tr>\n",
       "      <th>76</th>\n",
       "      <td>101</td>\n",
       "      <td>Indonésie</td>\n",
       "      <td>249866</td>\n",
       "      <td>2013</td>\n",
       "    </tr>\n",
       "    <tr>\n",
       "      <th>84</th>\n",
       "      <td>110</td>\n",
       "      <td>Japon</td>\n",
       "      <td>127144</td>\n",
       "      <td>2013</td>\n",
       "    </tr>\n",
       "    <tr>\n",
       "      <th>107</th>\n",
       "      <td>138</td>\n",
       "      <td>Mexique</td>\n",
       "      <td>122332</td>\n",
       "      <td>2013</td>\n",
       "    </tr>\n",
       "    <tr>\n",
       "      <th>116</th>\n",
       "      <td>159</td>\n",
       "      <td>Nigéria</td>\n",
       "      <td>173615</td>\n",
       "      <td>2013</td>\n",
       "    </tr>\n",
       "    <tr>\n",
       "      <th>123</th>\n",
       "      <td>165</td>\n",
       "      <td>Pakistan</td>\n",
       "      <td>182143</td>\n",
       "      <td>2013</td>\n",
       "    </tr>\n",
       "  </tbody>\n",
       "</table>\n",
       "</div>"
      ],
      "text/plain": [
       "     Code zone                   Zone  Population  Année\n",
       "14          16             Bangladesh      156595   2013\n",
       "24          21                 Brésil      200362   2013\n",
       "33         351                  Chine     1416667   2013\n",
       "36          41    Chine, continentale     1385567   2013\n",
       "55         231  États-Unis d'Amérique      320051   2013\n",
       "57         185   Fédération de Russie      142834   2013\n",
       "75         100                   Inde     1252140   2013\n",
       "76         101              Indonésie      249866   2013\n",
       "84         110                  Japon      127144   2013\n",
       "107        138                Mexique      122332   2013\n",
       "116        159                Nigéria      173615   2013\n",
       "123        165               Pakistan      182143   2013"
      ]
     },
     "execution_count": 5,
     "metadata": {},
     "output_type": "execute_result"
    }
   ],
   "source": [
    "data_pop[data_pop.Population > 100000]"
   ]
  },
  {
   "cell_type": "markdown",
   "metadata": {},
   "source": [
    "Pourquoi y a-t-il 2 \"chine\" ?"
   ]
  },
  {
   "cell_type": "code",
   "execution_count": 6,
   "metadata": {},
   "outputs": [
    {
     "data": {
      "text/html": [
       "<div>\n",
       "<style scoped>\n",
       "    .dataframe tbody tr th:only-of-type {\n",
       "        vertical-align: middle;\n",
       "    }\n",
       "\n",
       "    .dataframe tbody tr th {\n",
       "        vertical-align: top;\n",
       "    }\n",
       "\n",
       "    .dataframe thead th {\n",
       "        text-align: right;\n",
       "    }\n",
       "</style>\n",
       "<table border=\"1\" class=\"dataframe\">\n",
       "  <thead>\n",
       "    <tr style=\"text-align: right;\">\n",
       "      <th></th>\n",
       "      <th>Code zone</th>\n",
       "      <th>Zone</th>\n",
       "      <th>Population</th>\n",
       "      <th>Année</th>\n",
       "    </tr>\n",
       "  </thead>\n",
       "  <tbody>\n",
       "    <tr>\n",
       "      <th>33</th>\n",
       "      <td>351</td>\n",
       "      <td>Chine</td>\n",
       "      <td>1416667</td>\n",
       "      <td>2013</td>\n",
       "    </tr>\n",
       "    <tr>\n",
       "      <th>34</th>\n",
       "      <td>96</td>\n",
       "      <td>Chine - RAS de Hong-Kong</td>\n",
       "      <td>7204</td>\n",
       "      <td>2013</td>\n",
       "    </tr>\n",
       "    <tr>\n",
       "      <th>35</th>\n",
       "      <td>128</td>\n",
       "      <td>Chine - RAS de Macao</td>\n",
       "      <td>566</td>\n",
       "      <td>2013</td>\n",
       "    </tr>\n",
       "    <tr>\n",
       "      <th>36</th>\n",
       "      <td>41</td>\n",
       "      <td>Chine, continentale</td>\n",
       "      <td>1385567</td>\n",
       "      <td>2013</td>\n",
       "    </tr>\n",
       "    <tr>\n",
       "      <th>37</th>\n",
       "      <td>214</td>\n",
       "      <td>Chine, Taiwan Province de</td>\n",
       "      <td>23330</td>\n",
       "      <td>2013</td>\n",
       "    </tr>\n",
       "    <tr>\n",
       "      <th>38</th>\n",
       "      <td>50</td>\n",
       "      <td>Chypre</td>\n",
       "      <td>1141</td>\n",
       "      <td>2013</td>\n",
       "    </tr>\n",
       "    <tr>\n",
       "      <th>39</th>\n",
       "      <td>44</td>\n",
       "      <td>Colombie</td>\n",
       "      <td>48321</td>\n",
       "      <td>2013</td>\n",
       "    </tr>\n",
       "  </tbody>\n",
       "</table>\n",
       "</div>"
      ],
      "text/plain": [
       "    Code zone                       Zone  Population  Année\n",
       "33        351                      Chine     1416667   2013\n",
       "34         96   Chine - RAS de Hong-Kong        7204   2013\n",
       "35        128       Chine - RAS de Macao         566   2013\n",
       "36         41        Chine, continentale     1385567   2013\n",
       "37        214  Chine, Taiwan Province de       23330   2013\n",
       "38         50                     Chypre        1141   2013\n",
       "39         44                   Colombie       48321   2013"
      ]
     },
     "execution_count": 6,
     "metadata": {},
     "output_type": "execute_result"
    }
   ],
   "source": [
    "data_pop.iloc[33:40,:]"
   ]
  },
  {
   "cell_type": "markdown",
   "metadata": {},
   "source": [
    "Comme on peut le voir la Chine est présente comme ses \"régions\", je vais donc supprimer ses régions."
   ]
  },
  {
   "cell_type": "code",
   "execution_count": 7,
   "metadata": {},
   "outputs": [
    {
     "data": {
      "text/plain": [
       "6997326000"
      ]
     },
     "execution_count": 7,
     "metadata": {},
     "output_type": "execute_result"
    }
   ],
   "source": [
    "data_pop = data_pop.set_index('Zone')\n",
    "data_pop = data_pop.drop(['Chine, continentale', 'Chine, Taiwan Province de','Chine - RAS de Macao','Chine - RAS de Hong-Kong'], axis = 0)\n",
    "data_pop = data_pop.reset_index()\n",
    "nb_total_humain = (data_pop.loc[:,'Population'].sum())*1000\n",
    "nb_total_humain"
   ]
  },
  {
   "cell_type": "markdown",
   "metadata": {},
   "source": [
    "Nous voici donc avec un résultat plus réaliste."
   ]
  },
  {
   "cell_type": "markdown",
   "metadata": {},
   "source": [
    "Cependant, si l'on se base sur les résultats de l'INED (l'Institut National d'Etudes Démographiques), la population mondiale est égale à 7 141 millions de personnes, ce qui nous donne un montant différent que celui que l'on a trouvé. On peut déjà émettre une critique à propos la population chinoise et se demander si les populations de Hong-Kong, de Taïwan, ou encore de Macao sont comptées dans la population de la Chine (puisque ces dernières sont mentionnées comme des provinces chinoises), chose qui n'est pas forcément le cas dans les autres instituts (par exemple, l'INED donne une population chinoise s'élevant à 1 360 700 000 de personnes), biaisant nos résultats. Cependant, le fait de les compter en tant que pays à part entière n'est pas forcément un bonne chose puisque ce ne sont pas des pays indépendants (ils ne sont pas reconnus par l'Organisation des Nations Unies)."
   ]
  },
  {
   "cell_type": "markdown",
   "metadata": {},
   "source": [
    "Il y a une autre critique que l'on peut émettre. Il est possible qu'il puisse manquer les données de certains pays. Ainsi, il faudrait vérifier en détail, la présence ou de ces derniers, rajouter des données fiables,... Cela demanderais un travail fastidieux."
   ]
  },
  {
   "cell_type": "markdown",
   "metadata": {},
   "source": [
    " "
   ]
  },
  {
   "cell_type": "markdown",
   "metadata": {},
   "source": [
    "## Question 2 : Bilan Alimentaire"
   ]
  },
  {
   "cell_type": "markdown",
   "metadata": {},
   "source": [
    "Equation = Production + Importations + Variation de stocks = Disponibilité Intérieure + Exportations = (Aliments pour animaux + Semences + Pertes + Traitement + Autres Utilisateurs + Nourriture) + Exportations"
   ]
  },
  {
   "cell_type": "markdown",
   "metadata": {},
   "source": [
    "### Le blé en France : "
   ]
  },
  {
   "cell_type": "markdown",
   "metadata": {},
   "source": [
    "Production = 38 614"
   ]
  },
  {
   "cell_type": "markdown",
   "metadata": {},
   "source": [
    "Importations = 2 055"
   ]
  },
  {
   "cell_type": "markdown",
   "metadata": {},
   "source": [
    "Variation de stocks = 1 131"
   ]
  },
  {
   "cell_type": "markdown",
   "metadata": {},
   "source": [
    "Disponibilités intérieures = 20 298 "
   ]
  },
  {
   "cell_type": "markdown",
   "metadata": {},
   "source": [
    "Exportations = 21 502"
   ]
  },
  {
   "cell_type": "markdown",
   "metadata": {},
   "source": [
    "Aliments pour animaux = 7 822"
   ]
  },
  {
   "cell_type": "markdown",
   "metadata": {},
   "source": [
    "Semences = 748"
   ]
  },
  {
   "cell_type": "markdown",
   "metadata": {},
   "source": [
    "Pertes = 358"
   ]
  },
  {
   "cell_type": "markdown",
   "metadata": {},
   "source": [
    "Traitement = 1 575"
   ]
  },
  {
   "cell_type": "markdown",
   "metadata": {},
   "source": [
    "Autres Utilisateurs = 2 824"
   ]
  },
  {
   "cell_type": "markdown",
   "metadata": {},
   "source": [
    "Nourriture = 6 971"
   ]
  },
  {
   "cell_type": "markdown",
   "metadata": {},
   "source": [
    "38 614  +  2 055  +  1 131  =  20 298  +  21 502  =  (748  +  358  +  1 575  +  2 824  +  6 971)  +  21 502  =  41800"
   ]
  },
  {
   "cell_type": "markdown",
   "metadata": {},
   "source": [
    " "
   ]
  },
  {
   "cell_type": "markdown",
   "metadata": {},
   "source": [
    " "
   ]
  },
  {
   "cell_type": "markdown",
   "metadata": {},
   "source": [
    "## Question 3 : La disponibilité alimentaire"
   ]
  },
  {
   "cell_type": "markdown",
   "metadata": {},
   "source": [
    "On commence par la jointure pour ajouter les données des populations à notre Dataframe"
   ]
  },
  {
   "cell_type": "code",
   "execution_count": 8,
   "metadata": {},
   "outputs": [],
   "source": [
    "data_dispo_ali = data_ani.append(data_vege)"
   ]
  },
  {
   "cell_type": "code",
   "execution_count": 9,
   "metadata": {},
   "outputs": [],
   "source": [
    "del data_ani, data_vege"
   ]
  },
  {
   "cell_type": "code",
   "execution_count": 10,
   "metadata": {},
   "outputs": [
    {
     "data": {
      "text/html": [
       "<div>\n",
       "<style scoped>\n",
       "    .dataframe tbody tr th:only-of-type {\n",
       "        vertical-align: middle;\n",
       "    }\n",
       "\n",
       "    .dataframe tbody tr th {\n",
       "        vertical-align: top;\n",
       "    }\n",
       "\n",
       "    .dataframe thead th {\n",
       "        text-align: right;\n",
       "    }\n",
       "</style>\n",
       "<table border=\"1\" class=\"dataframe\">\n",
       "  <thead>\n",
       "    <tr style=\"text-align: right;\">\n",
       "      <th></th>\n",
       "      <th>Code zone</th>\n",
       "      <th>Zone</th>\n",
       "      <th>Élément</th>\n",
       "      <th>Code Produit</th>\n",
       "      <th>Produit</th>\n",
       "      <th>Code année</th>\n",
       "      <th>Année</th>\n",
       "      <th>Unité</th>\n",
       "      <th>Valeur</th>\n",
       "      <th>Origine</th>\n",
       "    </tr>\n",
       "  </thead>\n",
       "  <tbody>\n",
       "    <tr>\n",
       "      <th>0</th>\n",
       "      <td>2</td>\n",
       "      <td>Afghanistan</td>\n",
       "      <td>Production</td>\n",
       "      <td>2731</td>\n",
       "      <td>Viande de Bovins</td>\n",
       "      <td>2013</td>\n",
       "      <td>2013</td>\n",
       "      <td>Milliers de tonnes</td>\n",
       "      <td>134.00</td>\n",
       "      <td>Animaux</td>\n",
       "    </tr>\n",
       "    <tr>\n",
       "      <th>1</th>\n",
       "      <td>2</td>\n",
       "      <td>Afghanistan</td>\n",
       "      <td>Importations - Quantité</td>\n",
       "      <td>2731</td>\n",
       "      <td>Viande de Bovins</td>\n",
       "      <td>2013</td>\n",
       "      <td>2013</td>\n",
       "      <td>Milliers de tonnes</td>\n",
       "      <td>6.00</td>\n",
       "      <td>Animaux</td>\n",
       "    </tr>\n",
       "    <tr>\n",
       "      <th>2</th>\n",
       "      <td>2</td>\n",
       "      <td>Afghanistan</td>\n",
       "      <td>Disponibilité intérieure</td>\n",
       "      <td>2731</td>\n",
       "      <td>Viande de Bovins</td>\n",
       "      <td>2013</td>\n",
       "      <td>2013</td>\n",
       "      <td>Milliers de tonnes</td>\n",
       "      <td>140.00</td>\n",
       "      <td>Animaux</td>\n",
       "    </tr>\n",
       "    <tr>\n",
       "      <th>3</th>\n",
       "      <td>2</td>\n",
       "      <td>Afghanistan</td>\n",
       "      <td>Nourriture</td>\n",
       "      <td>2731</td>\n",
       "      <td>Viande de Bovins</td>\n",
       "      <td>2013</td>\n",
       "      <td>2013</td>\n",
       "      <td>Milliers de tonnes</td>\n",
       "      <td>140.00</td>\n",
       "      <td>Animaux</td>\n",
       "    </tr>\n",
       "    <tr>\n",
       "      <th>4</th>\n",
       "      <td>2</td>\n",
       "      <td>Afghanistan</td>\n",
       "      <td>Disponibilité alimentaire en quantité (kg/pers...</td>\n",
       "      <td>2731</td>\n",
       "      <td>Viande de Bovins</td>\n",
       "      <td>2013</td>\n",
       "      <td>2013</td>\n",
       "      <td>kg</td>\n",
       "      <td>4.59</td>\n",
       "      <td>Animaux</td>\n",
       "    </tr>\n",
       "    <tr>\n",
       "      <th>...</th>\n",
       "      <td>...</td>\n",
       "      <td>...</td>\n",
       "      <td>...</td>\n",
       "      <td>...</td>\n",
       "      <td>...</td>\n",
       "      <td>...</td>\n",
       "      <td>...</td>\n",
       "      <td>...</td>\n",
       "      <td>...</td>\n",
       "      <td>...</td>\n",
       "    </tr>\n",
       "    <tr>\n",
       "      <th>104866</th>\n",
       "      <td>181</td>\n",
       "      <td>Zimbabwe</td>\n",
       "      <td>Disponibilité de protéines en quantité (g/pers...</td>\n",
       "      <td>2680</td>\n",
       "      <td>Aliments pour enfants</td>\n",
       "      <td>2013</td>\n",
       "      <td>2013</td>\n",
       "      <td>g/personne/jour</td>\n",
       "      <td>0.00</td>\n",
       "      <td>Vegetal</td>\n",
       "    </tr>\n",
       "    <tr>\n",
       "      <th>104867</th>\n",
       "      <td>181</td>\n",
       "      <td>Zimbabwe</td>\n",
       "      <td>Disponibilité de matière grasse en quantité (g...</td>\n",
       "      <td>2680</td>\n",
       "      <td>Aliments pour enfants</td>\n",
       "      <td>2013</td>\n",
       "      <td>2013</td>\n",
       "      <td>g/personne/jour</td>\n",
       "      <td>0.00</td>\n",
       "      <td>Vegetal</td>\n",
       "    </tr>\n",
       "    <tr>\n",
       "      <th>104868</th>\n",
       "      <td>181</td>\n",
       "      <td>Zimbabwe</td>\n",
       "      <td>Disponibilité alimentaire (Kcal/personne/jour)</td>\n",
       "      <td>2899</td>\n",
       "      <td>Miscellanees</td>\n",
       "      <td>2013</td>\n",
       "      <td>2013</td>\n",
       "      <td>Kcal/personne/jour</td>\n",
       "      <td>2.00</td>\n",
       "      <td>Vegetal</td>\n",
       "    </tr>\n",
       "    <tr>\n",
       "      <th>104869</th>\n",
       "      <td>181</td>\n",
       "      <td>Zimbabwe</td>\n",
       "      <td>Disponibilité de protéines en quantité (g/pers...</td>\n",
       "      <td>2899</td>\n",
       "      <td>Miscellanees</td>\n",
       "      <td>2013</td>\n",
       "      <td>2013</td>\n",
       "      <td>g/personne/jour</td>\n",
       "      <td>0.07</td>\n",
       "      <td>Vegetal</td>\n",
       "    </tr>\n",
       "    <tr>\n",
       "      <th>104870</th>\n",
       "      <td>181</td>\n",
       "      <td>Zimbabwe</td>\n",
       "      <td>Disponibilité de matière grasse en quantité (g...</td>\n",
       "      <td>2899</td>\n",
       "      <td>Miscellanees</td>\n",
       "      <td>2013</td>\n",
       "      <td>2013</td>\n",
       "      <td>g/personne/jour</td>\n",
       "      <td>0.03</td>\n",
       "      <td>Vegetal</td>\n",
       "    </tr>\n",
       "  </tbody>\n",
       "</table>\n",
       "<p>142037 rows × 10 columns</p>\n",
       "</div>"
      ],
      "text/plain": [
       "        Code zone         Zone  \\\n",
       "0               2  Afghanistan   \n",
       "1               2  Afghanistan   \n",
       "2               2  Afghanistan   \n",
       "3               2  Afghanistan   \n",
       "4               2  Afghanistan   \n",
       "...           ...          ...   \n",
       "104866        181     Zimbabwe   \n",
       "104867        181     Zimbabwe   \n",
       "104868        181     Zimbabwe   \n",
       "104869        181     Zimbabwe   \n",
       "104870        181     Zimbabwe   \n",
       "\n",
       "                                                  Élément  Code Produit  \\\n",
       "0                                              Production          2731   \n",
       "1                                 Importations - Quantité          2731   \n",
       "2                                Disponibilité intérieure          2731   \n",
       "3                                              Nourriture          2731   \n",
       "4       Disponibilité alimentaire en quantité (kg/pers...          2731   \n",
       "...                                                   ...           ...   \n",
       "104866  Disponibilité de protéines en quantité (g/pers...          2680   \n",
       "104867  Disponibilité de matière grasse en quantité (g...          2680   \n",
       "104868     Disponibilité alimentaire (Kcal/personne/jour)          2899   \n",
       "104869  Disponibilité de protéines en quantité (g/pers...          2899   \n",
       "104870  Disponibilité de matière grasse en quantité (g...          2899   \n",
       "\n",
       "                      Produit  Code année  Année               Unité  Valeur  \\\n",
       "0            Viande de Bovins        2013   2013  Milliers de tonnes  134.00   \n",
       "1            Viande de Bovins        2013   2013  Milliers de tonnes    6.00   \n",
       "2            Viande de Bovins        2013   2013  Milliers de tonnes  140.00   \n",
       "3            Viande de Bovins        2013   2013  Milliers de tonnes  140.00   \n",
       "4            Viande de Bovins        2013   2013                  kg    4.59   \n",
       "...                       ...         ...    ...                 ...     ...   \n",
       "104866  Aliments pour enfants        2013   2013     g/personne/jour    0.00   \n",
       "104867  Aliments pour enfants        2013   2013     g/personne/jour    0.00   \n",
       "104868           Miscellanees        2013   2013  Kcal/personne/jour    2.00   \n",
       "104869           Miscellanees        2013   2013     g/personne/jour    0.07   \n",
       "104870           Miscellanees        2013   2013     g/personne/jour    0.03   \n",
       "\n",
       "        Origine  \n",
       "0       Animaux  \n",
       "1       Animaux  \n",
       "2       Animaux  \n",
       "3       Animaux  \n",
       "4       Animaux  \n",
       "...         ...  \n",
       "104866  Vegetal  \n",
       "104867  Vegetal  \n",
       "104868  Vegetal  \n",
       "104869  Vegetal  \n",
       "104870  Vegetal  \n",
       "\n",
       "[142037 rows x 10 columns]"
      ]
     },
     "execution_count": 10,
     "metadata": {},
     "output_type": "execute_result"
    }
   ],
   "source": [
    "data_dispo_ali"
   ]
  },
  {
   "cell_type": "code",
   "execution_count": 11,
   "metadata": {},
   "outputs": [],
   "source": [
    "data_dispo_ali = data_dispo_ali.reset_index()\n",
    "data_dispo_ali = data_dispo_ali.pivot_table(index = ['Année','Code zone','Zone','Code Produit','Produit','Origine'], columns = 'Élément',values=\"Valeur\", aggfunc=sum)\n",
    "data_dispo_ali = data_dispo_ali.reset_index()"
   ]
  },
  {
   "cell_type": "code",
   "execution_count": 12,
   "metadata": {},
   "outputs": [
    {
     "data": {
      "text/html": [
       "<div>\n",
       "<style scoped>\n",
       "    .dataframe tbody tr th:only-of-type {\n",
       "        vertical-align: middle;\n",
       "    }\n",
       "\n",
       "    .dataframe tbody tr th {\n",
       "        vertical-align: top;\n",
       "    }\n",
       "\n",
       "    .dataframe thead th {\n",
       "        text-align: right;\n",
       "    }\n",
       "</style>\n",
       "<table border=\"1\" class=\"dataframe\">\n",
       "  <thead>\n",
       "    <tr style=\"text-align: right;\">\n",
       "      <th>Élément</th>\n",
       "      <th>Année</th>\n",
       "      <th>Code zone</th>\n",
       "      <th>Zone</th>\n",
       "      <th>Code Produit</th>\n",
       "      <th>Produit</th>\n",
       "      <th>Origine</th>\n",
       "      <th>Aliments pour animaux</th>\n",
       "      <th>Autres utilisations (non alimentaire)</th>\n",
       "      <th>Disponibilité alimentaire (Kcal/personne/jour)</th>\n",
       "      <th>Disponibilité alimentaire en quantité (kg/personne/an)</th>\n",
       "      <th>...</th>\n",
       "      <th>Disponibilité de protéines en quantité (g/personne/jour)</th>\n",
       "      <th>Disponibilité intérieure</th>\n",
       "      <th>Exportations - Quantité</th>\n",
       "      <th>Importations - Quantité</th>\n",
       "      <th>Nourriture</th>\n",
       "      <th>Pertes</th>\n",
       "      <th>Production</th>\n",
       "      <th>Semences</th>\n",
       "      <th>Traitement</th>\n",
       "      <th>Variation de stock</th>\n",
       "    </tr>\n",
       "  </thead>\n",
       "  <tbody>\n",
       "    <tr>\n",
       "      <th>0</th>\n",
       "      <td>2013</td>\n",
       "      <td>1</td>\n",
       "      <td>Arménie</td>\n",
       "      <td>2511</td>\n",
       "      <td>Blé</td>\n",
       "      <td>Vegetal</td>\n",
       "      <td>93.0</td>\n",
       "      <td>0.0</td>\n",
       "      <td>1024.0</td>\n",
       "      <td>130.60</td>\n",
       "      <td>...</td>\n",
       "      <td>30.52</td>\n",
       "      <td>554.0</td>\n",
       "      <td>1.0</td>\n",
       "      <td>361.0</td>\n",
       "      <td>389.0</td>\n",
       "      <td>32.0</td>\n",
       "      <td>312.0</td>\n",
       "      <td>30.0</td>\n",
       "      <td>10.0</td>\n",
       "      <td>-118.0</td>\n",
       "    </tr>\n",
       "    <tr>\n",
       "      <th>1</th>\n",
       "      <td>2013</td>\n",
       "      <td>1</td>\n",
       "      <td>Arménie</td>\n",
       "      <td>2513</td>\n",
       "      <td>Orge</td>\n",
       "      <td>Vegetal</td>\n",
       "      <td>137.0</td>\n",
       "      <td>26.0</td>\n",
       "      <td>0.0</td>\n",
       "      <td>0.00</td>\n",
       "      <td>...</td>\n",
       "      <td>0.00</td>\n",
       "      <td>198.0</td>\n",
       "      <td>0.0</td>\n",
       "      <td>9.0</td>\n",
       "      <td>0.0</td>\n",
       "      <td>15.0</td>\n",
       "      <td>189.0</td>\n",
       "      <td>14.0</td>\n",
       "      <td>7.0</td>\n",
       "      <td>0.0</td>\n",
       "    </tr>\n",
       "    <tr>\n",
       "      <th>2</th>\n",
       "      <td>2013</td>\n",
       "      <td>1</td>\n",
       "      <td>Arménie</td>\n",
       "      <td>2514</td>\n",
       "      <td>Maïs</td>\n",
       "      <td>Vegetal</td>\n",
       "      <td>96.0</td>\n",
       "      <td>NaN</td>\n",
       "      <td>0.0</td>\n",
       "      <td>0.03</td>\n",
       "      <td>...</td>\n",
       "      <td>0.01</td>\n",
       "      <td>102.0</td>\n",
       "      <td>NaN</td>\n",
       "      <td>82.0</td>\n",
       "      <td>0.0</td>\n",
       "      <td>7.0</td>\n",
       "      <td>21.0</td>\n",
       "      <td>0.0</td>\n",
       "      <td>NaN</td>\n",
       "      <td>NaN</td>\n",
       "    </tr>\n",
       "    <tr>\n",
       "      <th>3</th>\n",
       "      <td>2013</td>\n",
       "      <td>1</td>\n",
       "      <td>Arménie</td>\n",
       "      <td>2515</td>\n",
       "      <td>Seigle</td>\n",
       "      <td>Vegetal</td>\n",
       "      <td>1.0</td>\n",
       "      <td>NaN</td>\n",
       "      <td>1.0</td>\n",
       "      <td>0.12</td>\n",
       "      <td>...</td>\n",
       "      <td>0.02</td>\n",
       "      <td>1.0</td>\n",
       "      <td>NaN</td>\n",
       "      <td>0.0</td>\n",
       "      <td>0.0</td>\n",
       "      <td>0.0</td>\n",
       "      <td>1.0</td>\n",
       "      <td>0.0</td>\n",
       "      <td>NaN</td>\n",
       "      <td>0.0</td>\n",
       "    </tr>\n",
       "    <tr>\n",
       "      <th>4</th>\n",
       "      <td>2013</td>\n",
       "      <td>1</td>\n",
       "      <td>Arménie</td>\n",
       "      <td>2516</td>\n",
       "      <td>Avoine</td>\n",
       "      <td>Vegetal</td>\n",
       "      <td>4.0</td>\n",
       "      <td>NaN</td>\n",
       "      <td>2.0</td>\n",
       "      <td>0.37</td>\n",
       "      <td>...</td>\n",
       "      <td>0.09</td>\n",
       "      <td>6.0</td>\n",
       "      <td>NaN</td>\n",
       "      <td>1.0</td>\n",
       "      <td>1.0</td>\n",
       "      <td>0.0</td>\n",
       "      <td>5.0</td>\n",
       "      <td>0.0</td>\n",
       "      <td>NaN</td>\n",
       "      <td>NaN</td>\n",
       "    </tr>\n",
       "    <tr>\n",
       "      <th>...</th>\n",
       "      <td>...</td>\n",
       "      <td>...</td>\n",
       "      <td>...</td>\n",
       "      <td>...</td>\n",
       "      <td>...</td>\n",
       "      <td>...</td>\n",
       "      <td>...</td>\n",
       "      <td>...</td>\n",
       "      <td>...</td>\n",
       "      <td>...</td>\n",
       "      <td>...</td>\n",
       "      <td>...</td>\n",
       "      <td>...</td>\n",
       "      <td>...</td>\n",
       "      <td>...</td>\n",
       "      <td>...</td>\n",
       "      <td>...</td>\n",
       "      <td>...</td>\n",
       "      <td>...</td>\n",
       "      <td>...</td>\n",
       "      <td>...</td>\n",
       "    </tr>\n",
       "    <tr>\n",
       "      <th>15697</th>\n",
       "      <td>2013</td>\n",
       "      <td>351</td>\n",
       "      <td>Chine</td>\n",
       "      <td>2781</td>\n",
       "      <td>Huiles de Poissons</td>\n",
       "      <td>Animaux</td>\n",
       "      <td>47.0</td>\n",
       "      <td>80.0</td>\n",
       "      <td>0.0</td>\n",
       "      <td>0.00</td>\n",
       "      <td>...</td>\n",
       "      <td>0.00</td>\n",
       "      <td>127.0</td>\n",
       "      <td>13.0</td>\n",
       "      <td>91.0</td>\n",
       "      <td>0.0</td>\n",
       "      <td>NaN</td>\n",
       "      <td>50.0</td>\n",
       "      <td>NaN</td>\n",
       "      <td>NaN</td>\n",
       "      <td>0.0</td>\n",
       "    </tr>\n",
       "    <tr>\n",
       "      <th>15698</th>\n",
       "      <td>2013</td>\n",
       "      <td>351</td>\n",
       "      <td>Chine</td>\n",
       "      <td>2782</td>\n",
       "      <td>Huiles de Foie de Poisso</td>\n",
       "      <td>Animaux</td>\n",
       "      <td>0.0</td>\n",
       "      <td>0.0</td>\n",
       "      <td>0.0</td>\n",
       "      <td>0.00</td>\n",
       "      <td>...</td>\n",
       "      <td>0.00</td>\n",
       "      <td>0.0</td>\n",
       "      <td>1.0</td>\n",
       "      <td>1.0</td>\n",
       "      <td>0.0</td>\n",
       "      <td>NaN</td>\n",
       "      <td>0.0</td>\n",
       "      <td>NaN</td>\n",
       "      <td>NaN</td>\n",
       "      <td>0.0</td>\n",
       "    </tr>\n",
       "    <tr>\n",
       "      <th>15699</th>\n",
       "      <td>2013</td>\n",
       "      <td>351</td>\n",
       "      <td>Chine</td>\n",
       "      <td>2805</td>\n",
       "      <td>Riz (Eq Blanchi)</td>\n",
       "      <td>Vegetal</td>\n",
       "      <td>12117.0</td>\n",
       "      <td>2085.0</td>\n",
       "      <td>797.0</td>\n",
       "      <td>77.45</td>\n",
       "      <td>...</td>\n",
       "      <td>14.47</td>\n",
       "      <td>135024.0</td>\n",
       "      <td>565.0</td>\n",
       "      <td>2714.0</td>\n",
       "      <td>109725.0</td>\n",
       "      <td>6406.0</td>\n",
       "      <td>136873.0</td>\n",
       "      <td>4679.0</td>\n",
       "      <td>12.0</td>\n",
       "      <td>-3998.0</td>\n",
       "    </tr>\n",
       "    <tr>\n",
       "      <th>15700</th>\n",
       "      <td>2013</td>\n",
       "      <td>351</td>\n",
       "      <td>Chine</td>\n",
       "      <td>2848</td>\n",
       "      <td>Lait - Excl Beurre</td>\n",
       "      <td>Animaux</td>\n",
       "      <td>1632.0</td>\n",
       "      <td>42.0</td>\n",
       "      <td>59.0</td>\n",
       "      <td>33.18</td>\n",
       "      <td>...</td>\n",
       "      <td>3.12</td>\n",
       "      <td>50117.0</td>\n",
       "      <td>233.0</td>\n",
       "      <td>9780.0</td>\n",
       "      <td>47009.0</td>\n",
       "      <td>1433.0</td>\n",
       "      <td>40570.0</td>\n",
       "      <td>NaN</td>\n",
       "      <td>0.0</td>\n",
       "      <td>0.0</td>\n",
       "    </tr>\n",
       "    <tr>\n",
       "      <th>15701</th>\n",
       "      <td>2013</td>\n",
       "      <td>351</td>\n",
       "      <td>Chine</td>\n",
       "      <td>2899</td>\n",
       "      <td>Miscellanees</td>\n",
       "      <td>Vegetal</td>\n",
       "      <td>NaN</td>\n",
       "      <td>NaN</td>\n",
       "      <td>0.0</td>\n",
       "      <td>NaN</td>\n",
       "      <td>...</td>\n",
       "      <td>0.01</td>\n",
       "      <td>NaN</td>\n",
       "      <td>NaN</td>\n",
       "      <td>NaN</td>\n",
       "      <td>NaN</td>\n",
       "      <td>NaN</td>\n",
       "      <td>NaN</td>\n",
       "      <td>NaN</td>\n",
       "      <td>NaN</td>\n",
       "      <td>NaN</td>\n",
       "    </tr>\n",
       "  </tbody>\n",
       "</table>\n",
       "<p>15702 rows × 21 columns</p>\n",
       "</div>"
      ],
      "text/plain": [
       "Élément  Année  Code zone     Zone  Code Produit                   Produit  \\\n",
       "0         2013          1  Arménie          2511                       Blé   \n",
       "1         2013          1  Arménie          2513                      Orge   \n",
       "2         2013          1  Arménie          2514                      Maïs   \n",
       "3         2013          1  Arménie          2515                    Seigle   \n",
       "4         2013          1  Arménie          2516                    Avoine   \n",
       "...        ...        ...      ...           ...                       ...   \n",
       "15697     2013        351    Chine          2781        Huiles de Poissons   \n",
       "15698     2013        351    Chine          2782  Huiles de Foie de Poisso   \n",
       "15699     2013        351    Chine          2805          Riz (Eq Blanchi)   \n",
       "15700     2013        351    Chine          2848        Lait - Excl Beurre   \n",
       "15701     2013        351    Chine          2899              Miscellanees   \n",
       "\n",
       "Élément  Origine  Aliments pour animaux  \\\n",
       "0        Vegetal                   93.0   \n",
       "1        Vegetal                  137.0   \n",
       "2        Vegetal                   96.0   \n",
       "3        Vegetal                    1.0   \n",
       "4        Vegetal                    4.0   \n",
       "...          ...                    ...   \n",
       "15697    Animaux                   47.0   \n",
       "15698    Animaux                    0.0   \n",
       "15699    Vegetal                12117.0   \n",
       "15700    Animaux                 1632.0   \n",
       "15701    Vegetal                    NaN   \n",
       "\n",
       "Élément  Autres utilisations (non alimentaire)  \\\n",
       "0                                          0.0   \n",
       "1                                         26.0   \n",
       "2                                          NaN   \n",
       "3                                          NaN   \n",
       "4                                          NaN   \n",
       "...                                        ...   \n",
       "15697                                     80.0   \n",
       "15698                                      0.0   \n",
       "15699                                   2085.0   \n",
       "15700                                     42.0   \n",
       "15701                                      NaN   \n",
       "\n",
       "Élément  Disponibilité alimentaire (Kcal/personne/jour)  \\\n",
       "0                                                1024.0   \n",
       "1                                                   0.0   \n",
       "2                                                   0.0   \n",
       "3                                                   1.0   \n",
       "4                                                   2.0   \n",
       "...                                                 ...   \n",
       "15697                                               0.0   \n",
       "15698                                               0.0   \n",
       "15699                                             797.0   \n",
       "15700                                              59.0   \n",
       "15701                                               0.0   \n",
       "\n",
       "Élément  Disponibilité alimentaire en quantité (kg/personne/an)  ...  \\\n",
       "0                                                   130.60       ...   \n",
       "1                                                     0.00       ...   \n",
       "2                                                     0.03       ...   \n",
       "3                                                     0.12       ...   \n",
       "4                                                     0.37       ...   \n",
       "...                                                    ...       ...   \n",
       "15697                                                 0.00       ...   \n",
       "15698                                                 0.00       ...   \n",
       "15699                                                77.45       ...   \n",
       "15700                                                33.18       ...   \n",
       "15701                                                  NaN       ...   \n",
       "\n",
       "Élément  Disponibilité de protéines en quantité (g/personne/jour)  \\\n",
       "0                                                    30.52          \n",
       "1                                                     0.00          \n",
       "2                                                     0.01          \n",
       "3                                                     0.02          \n",
       "4                                                     0.09          \n",
       "...                                                    ...          \n",
       "15697                                                 0.00          \n",
       "15698                                                 0.00          \n",
       "15699                                                14.47          \n",
       "15700                                                 3.12          \n",
       "15701                                                 0.01          \n",
       "\n",
       "Élément  Disponibilité intérieure  Exportations - Quantité  \\\n",
       "0                           554.0                      1.0   \n",
       "1                           198.0                      0.0   \n",
       "2                           102.0                      NaN   \n",
       "3                             1.0                      NaN   \n",
       "4                             6.0                      NaN   \n",
       "...                           ...                      ...   \n",
       "15697                       127.0                     13.0   \n",
       "15698                         0.0                      1.0   \n",
       "15699                    135024.0                    565.0   \n",
       "15700                     50117.0                    233.0   \n",
       "15701                         NaN                      NaN   \n",
       "\n",
       "Élément  Importations - Quantité  Nourriture  Pertes  Production  Semences  \\\n",
       "0                          361.0       389.0    32.0       312.0      30.0   \n",
       "1                            9.0         0.0    15.0       189.0      14.0   \n",
       "2                           82.0         0.0     7.0        21.0       0.0   \n",
       "3                            0.0         0.0     0.0         1.0       0.0   \n",
       "4                            1.0         1.0     0.0         5.0       0.0   \n",
       "...                          ...         ...     ...         ...       ...   \n",
       "15697                       91.0         0.0     NaN        50.0       NaN   \n",
       "15698                        1.0         0.0     NaN         0.0       NaN   \n",
       "15699                     2714.0    109725.0  6406.0    136873.0    4679.0   \n",
       "15700                     9780.0     47009.0  1433.0     40570.0       NaN   \n",
       "15701                        NaN         NaN     NaN         NaN       NaN   \n",
       "\n",
       "Élément  Traitement  Variation de stock  \n",
       "0              10.0              -118.0  \n",
       "1               7.0                 0.0  \n",
       "2               NaN                 NaN  \n",
       "3               NaN                 0.0  \n",
       "4               NaN                 NaN  \n",
       "...             ...                 ...  \n",
       "15697           NaN                 0.0  \n",
       "15698           NaN                 0.0  \n",
       "15699          12.0             -3998.0  \n",
       "15700           0.0                 0.0  \n",
       "15701           NaN                 NaN  \n",
       "\n",
       "[15702 rows x 21 columns]"
      ]
     },
     "execution_count": 12,
     "metadata": {},
     "output_type": "execute_result"
    }
   ],
   "source": [
    "data_dispo_ali"
   ]
  },
  {
   "cell_type": "code",
   "execution_count": 13,
   "metadata": {},
   "outputs": [],
   "source": [
    "dispo_ali_pop = pd.merge(data_dispo_ali, data_pop, left_on = 'Code zone', right_on = 'Code zone')"
   ]
  },
  {
   "cell_type": "code",
   "execution_count": 14,
   "metadata": {},
   "outputs": [
    {
     "data": {
      "text/html": [
       "<div>\n",
       "<style scoped>\n",
       "    .dataframe tbody tr th:only-of-type {\n",
       "        vertical-align: middle;\n",
       "    }\n",
       "\n",
       "    .dataframe tbody tr th {\n",
       "        vertical-align: top;\n",
       "    }\n",
       "\n",
       "    .dataframe thead th {\n",
       "        text-align: right;\n",
       "    }\n",
       "</style>\n",
       "<table border=\"1\" class=\"dataframe\">\n",
       "  <thead>\n",
       "    <tr style=\"text-align: right;\">\n",
       "      <th></th>\n",
       "      <th>Année_x</th>\n",
       "      <th>Code zone</th>\n",
       "      <th>Zone_x</th>\n",
       "      <th>Code Produit</th>\n",
       "      <th>Produit</th>\n",
       "    </tr>\n",
       "  </thead>\n",
       "  <tbody>\n",
       "    <tr>\n",
       "      <th>0</th>\n",
       "      <td>2013</td>\n",
       "      <td>1</td>\n",
       "      <td>Arménie</td>\n",
       "      <td>2511</td>\n",
       "      <td>Blé</td>\n",
       "    </tr>\n",
       "    <tr>\n",
       "      <th>1</th>\n",
       "      <td>2013</td>\n",
       "      <td>1</td>\n",
       "      <td>Arménie</td>\n",
       "      <td>2513</td>\n",
       "      <td>Orge</td>\n",
       "    </tr>\n",
       "    <tr>\n",
       "      <th>2</th>\n",
       "      <td>2013</td>\n",
       "      <td>1</td>\n",
       "      <td>Arménie</td>\n",
       "      <td>2514</td>\n",
       "      <td>Maïs</td>\n",
       "    </tr>\n",
       "    <tr>\n",
       "      <th>3</th>\n",
       "      <td>2013</td>\n",
       "      <td>1</td>\n",
       "      <td>Arménie</td>\n",
       "      <td>2515</td>\n",
       "      <td>Seigle</td>\n",
       "    </tr>\n",
       "    <tr>\n",
       "      <th>4</th>\n",
       "      <td>2013</td>\n",
       "      <td>1</td>\n",
       "      <td>Arménie</td>\n",
       "      <td>2516</td>\n",
       "      <td>Avoine</td>\n",
       "    </tr>\n",
       "    <tr>\n",
       "      <th>5</th>\n",
       "      <td>2013</td>\n",
       "      <td>1</td>\n",
       "      <td>Arménie</td>\n",
       "      <td>2517</td>\n",
       "      <td>Millet</td>\n",
       "    </tr>\n",
       "    <tr>\n",
       "      <th>6</th>\n",
       "      <td>2013</td>\n",
       "      <td>1</td>\n",
       "      <td>Arménie</td>\n",
       "      <td>2518</td>\n",
       "      <td>Sorgho</td>\n",
       "    </tr>\n",
       "    <tr>\n",
       "      <th>7</th>\n",
       "      <td>2013</td>\n",
       "      <td>1</td>\n",
       "      <td>Arménie</td>\n",
       "      <td>2520</td>\n",
       "      <td>Céréales, Autres</td>\n",
       "    </tr>\n",
       "    <tr>\n",
       "      <th>8</th>\n",
       "      <td>2013</td>\n",
       "      <td>1</td>\n",
       "      <td>Arménie</td>\n",
       "      <td>2531</td>\n",
       "      <td>Pommes de Terre</td>\n",
       "    </tr>\n",
       "    <tr>\n",
       "      <th>9</th>\n",
       "      <td>2013</td>\n",
       "      <td>1</td>\n",
       "      <td>Arménie</td>\n",
       "      <td>2532</td>\n",
       "      <td>Manioc</td>\n",
       "    </tr>\n",
       "  </tbody>\n",
       "</table>\n",
       "</div>"
      ],
      "text/plain": [
       "   Année_x  Code zone   Zone_x  Code Produit           Produit\n",
       "0     2013          1  Arménie          2511               Blé\n",
       "1     2013          1  Arménie          2513              Orge\n",
       "2     2013          1  Arménie          2514              Maïs\n",
       "3     2013          1  Arménie          2515            Seigle\n",
       "4     2013          1  Arménie          2516            Avoine\n",
       "5     2013          1  Arménie          2517            Millet\n",
       "6     2013          1  Arménie          2518            Sorgho\n",
       "7     2013          1  Arménie          2520  Céréales, Autres\n",
       "8     2013          1  Arménie          2531   Pommes de Terre\n",
       "9     2013          1  Arménie          2532            Manioc"
      ]
     },
     "execution_count": 14,
     "metadata": {},
     "output_type": "execute_result"
    }
   ],
   "source": [
    "dispo_ali_pop.iloc[0:10, 0:5]"
   ]
  },
  {
   "cell_type": "markdown",
   "metadata": {},
   "source": [
    "### Calcul des disponibilités alimentaires"
   ]
  },
  {
   "cell_type": "code",
   "execution_count": 15,
   "metadata": {},
   "outputs": [
    {
     "data": {
      "text/html": [
       "<div>\n",
       "<style scoped>\n",
       "    .dataframe tbody tr th:only-of-type {\n",
       "        vertical-align: middle;\n",
       "    }\n",
       "\n",
       "    .dataframe tbody tr th {\n",
       "        vertical-align: top;\n",
       "    }\n",
       "\n",
       "    .dataframe thead th {\n",
       "        text-align: right;\n",
       "    }\n",
       "</style>\n",
       "<table border=\"1\" class=\"dataframe\">\n",
       "  <thead>\n",
       "    <tr style=\"text-align: right;\">\n",
       "      <th></th>\n",
       "      <th>Année_x</th>\n",
       "      <th>Code zone</th>\n",
       "      <th>Zone</th>\n",
       "      <th>Code Produit</th>\n",
       "      <th>Produit</th>\n",
       "      <th>Origine</th>\n",
       "      <th>Aliments pour animaux</th>\n",
       "      <th>Autres utilisations (non alimentaire)</th>\n",
       "      <th>Disponibilité alimentaire (Kcal/personne/jour)</th>\n",
       "      <th>Disponibilité alimentaire en quantité (kg/personne/an)</th>\n",
       "      <th>...</th>\n",
       "      <th>Pertes</th>\n",
       "      <th>Production</th>\n",
       "      <th>Semences</th>\n",
       "      <th>Traitement</th>\n",
       "      <th>Variation de stock</th>\n",
       "      <th>Zone_y</th>\n",
       "      <th>Population</th>\n",
       "      <th>Année_y</th>\n",
       "      <th>Disponibilité alimentaire en Kcal</th>\n",
       "      <th>Disponibilité alimentaire en kg de protéines</th>\n",
       "    </tr>\n",
       "  </thead>\n",
       "  <tbody>\n",
       "    <tr>\n",
       "      <th>0</th>\n",
       "      <td>2013</td>\n",
       "      <td>1</td>\n",
       "      <td>Arménie</td>\n",
       "      <td>2511</td>\n",
       "      <td>Blé</td>\n",
       "      <td>Vegetal</td>\n",
       "      <td>93.0</td>\n",
       "      <td>0.0</td>\n",
       "      <td>1024.0</td>\n",
       "      <td>130.60</td>\n",
       "      <td>...</td>\n",
       "      <td>32.0</td>\n",
       "      <td>312.0</td>\n",
       "      <td>30.0</td>\n",
       "      <td>10.0</td>\n",
       "      <td>-118.0</td>\n",
       "      <td>Arménie</td>\n",
       "      <td>2977</td>\n",
       "      <td>2013</td>\n",
       "      <td>1.112684e+12</td>\n",
       "      <td>3.316318e+07</td>\n",
       "    </tr>\n",
       "    <tr>\n",
       "      <th>1</th>\n",
       "      <td>2013</td>\n",
       "      <td>1</td>\n",
       "      <td>Arménie</td>\n",
       "      <td>2513</td>\n",
       "      <td>Orge</td>\n",
       "      <td>Vegetal</td>\n",
       "      <td>137.0</td>\n",
       "      <td>26.0</td>\n",
       "      <td>0.0</td>\n",
       "      <td>0.00</td>\n",
       "      <td>...</td>\n",
       "      <td>15.0</td>\n",
       "      <td>189.0</td>\n",
       "      <td>14.0</td>\n",
       "      <td>7.0</td>\n",
       "      <td>0.0</td>\n",
       "      <td>Arménie</td>\n",
       "      <td>2977</td>\n",
       "      <td>2013</td>\n",
       "      <td>0.000000e+00</td>\n",
       "      <td>0.000000e+00</td>\n",
       "    </tr>\n",
       "    <tr>\n",
       "      <th>2</th>\n",
       "      <td>2013</td>\n",
       "      <td>1</td>\n",
       "      <td>Arménie</td>\n",
       "      <td>2514</td>\n",
       "      <td>Maïs</td>\n",
       "      <td>Vegetal</td>\n",
       "      <td>96.0</td>\n",
       "      <td>NaN</td>\n",
       "      <td>0.0</td>\n",
       "      <td>0.03</td>\n",
       "      <td>...</td>\n",
       "      <td>7.0</td>\n",
       "      <td>21.0</td>\n",
       "      <td>0.0</td>\n",
       "      <td>NaN</td>\n",
       "      <td>NaN</td>\n",
       "      <td>Arménie</td>\n",
       "      <td>2977</td>\n",
       "      <td>2013</td>\n",
       "      <td>0.000000e+00</td>\n",
       "      <td>1.086605e+04</td>\n",
       "    </tr>\n",
       "    <tr>\n",
       "      <th>3</th>\n",
       "      <td>2013</td>\n",
       "      <td>1</td>\n",
       "      <td>Arménie</td>\n",
       "      <td>2515</td>\n",
       "      <td>Seigle</td>\n",
       "      <td>Vegetal</td>\n",
       "      <td>1.0</td>\n",
       "      <td>NaN</td>\n",
       "      <td>1.0</td>\n",
       "      <td>0.12</td>\n",
       "      <td>...</td>\n",
       "      <td>0.0</td>\n",
       "      <td>1.0</td>\n",
       "      <td>0.0</td>\n",
       "      <td>NaN</td>\n",
       "      <td>0.0</td>\n",
       "      <td>Arménie</td>\n",
       "      <td>2977</td>\n",
       "      <td>2013</td>\n",
       "      <td>1.086605e+09</td>\n",
       "      <td>2.173210e+04</td>\n",
       "    </tr>\n",
       "    <tr>\n",
       "      <th>4</th>\n",
       "      <td>2013</td>\n",
       "      <td>1</td>\n",
       "      <td>Arménie</td>\n",
       "      <td>2516</td>\n",
       "      <td>Avoine</td>\n",
       "      <td>Vegetal</td>\n",
       "      <td>4.0</td>\n",
       "      <td>NaN</td>\n",
       "      <td>2.0</td>\n",
       "      <td>0.37</td>\n",
       "      <td>...</td>\n",
       "      <td>0.0</td>\n",
       "      <td>5.0</td>\n",
       "      <td>0.0</td>\n",
       "      <td>NaN</td>\n",
       "      <td>NaN</td>\n",
       "      <td>Arménie</td>\n",
       "      <td>2977</td>\n",
       "      <td>2013</td>\n",
       "      <td>2.173210e+09</td>\n",
       "      <td>9.779445e+04</td>\n",
       "    </tr>\n",
       "    <tr>\n",
       "      <th>...</th>\n",
       "      <td>...</td>\n",
       "      <td>...</td>\n",
       "      <td>...</td>\n",
       "      <td>...</td>\n",
       "      <td>...</td>\n",
       "      <td>...</td>\n",
       "      <td>...</td>\n",
       "      <td>...</td>\n",
       "      <td>...</td>\n",
       "      <td>...</td>\n",
       "      <td>...</td>\n",
       "      <td>...</td>\n",
       "      <td>...</td>\n",
       "      <td>...</td>\n",
       "      <td>...</td>\n",
       "      <td>...</td>\n",
       "      <td>...</td>\n",
       "      <td>...</td>\n",
       "      <td>...</td>\n",
       "      <td>...</td>\n",
       "      <td>...</td>\n",
       "    </tr>\n",
       "    <tr>\n",
       "      <th>15320</th>\n",
       "      <td>2013</td>\n",
       "      <td>351</td>\n",
       "      <td>Chine</td>\n",
       "      <td>2781</td>\n",
       "      <td>Huiles de Poissons</td>\n",
       "      <td>Animaux</td>\n",
       "      <td>47.0</td>\n",
       "      <td>80.0</td>\n",
       "      <td>0.0</td>\n",
       "      <td>0.00</td>\n",
       "      <td>...</td>\n",
       "      <td>NaN</td>\n",
       "      <td>50.0</td>\n",
       "      <td>NaN</td>\n",
       "      <td>NaN</td>\n",
       "      <td>0.0</td>\n",
       "      <td>Chine</td>\n",
       "      <td>1416667</td>\n",
       "      <td>2013</td>\n",
       "      <td>0.000000e+00</td>\n",
       "      <td>0.000000e+00</td>\n",
       "    </tr>\n",
       "    <tr>\n",
       "      <th>15321</th>\n",
       "      <td>2013</td>\n",
       "      <td>351</td>\n",
       "      <td>Chine</td>\n",
       "      <td>2782</td>\n",
       "      <td>Huiles de Foie de Poisso</td>\n",
       "      <td>Animaux</td>\n",
       "      <td>0.0</td>\n",
       "      <td>0.0</td>\n",
       "      <td>0.0</td>\n",
       "      <td>0.00</td>\n",
       "      <td>...</td>\n",
       "      <td>NaN</td>\n",
       "      <td>0.0</td>\n",
       "      <td>NaN</td>\n",
       "      <td>NaN</td>\n",
       "      <td>0.0</td>\n",
       "      <td>Chine</td>\n",
       "      <td>1416667</td>\n",
       "      <td>2013</td>\n",
       "      <td>0.000000e+00</td>\n",
       "      <td>0.000000e+00</td>\n",
       "    </tr>\n",
       "    <tr>\n",
       "      <th>15322</th>\n",
       "      <td>2013</td>\n",
       "      <td>351</td>\n",
       "      <td>Chine</td>\n",
       "      <td>2805</td>\n",
       "      <td>Riz (Eq Blanchi)</td>\n",
       "      <td>Vegetal</td>\n",
       "      <td>12117.0</td>\n",
       "      <td>2085.0</td>\n",
       "      <td>797.0</td>\n",
       "      <td>77.45</td>\n",
       "      <td>...</td>\n",
       "      <td>6406.0</td>\n",
       "      <td>136873.0</td>\n",
       "      <td>4679.0</td>\n",
       "      <td>12.0</td>\n",
       "      <td>-3998.0</td>\n",
       "      <td>Chine</td>\n",
       "      <td>1416667</td>\n",
       "      <td>2013</td>\n",
       "      <td>4.121155e+14</td>\n",
       "      <td>7.482198e+09</td>\n",
       "    </tr>\n",
       "    <tr>\n",
       "      <th>15323</th>\n",
       "      <td>2013</td>\n",
       "      <td>351</td>\n",
       "      <td>Chine</td>\n",
       "      <td>2848</td>\n",
       "      <td>Lait - Excl Beurre</td>\n",
       "      <td>Animaux</td>\n",
       "      <td>1632.0</td>\n",
       "      <td>42.0</td>\n",
       "      <td>59.0</td>\n",
       "      <td>33.18</td>\n",
       "      <td>...</td>\n",
       "      <td>1433.0</td>\n",
       "      <td>40570.0</td>\n",
       "      <td>NaN</td>\n",
       "      <td>0.0</td>\n",
       "      <td>0.0</td>\n",
       "      <td>Chine</td>\n",
       "      <td>1416667</td>\n",
       "      <td>2013</td>\n",
       "      <td>3.050792e+13</td>\n",
       "      <td>1.613300e+09</td>\n",
       "    </tr>\n",
       "    <tr>\n",
       "      <th>15324</th>\n",
       "      <td>2013</td>\n",
       "      <td>351</td>\n",
       "      <td>Chine</td>\n",
       "      <td>2899</td>\n",
       "      <td>Miscellanees</td>\n",
       "      <td>Vegetal</td>\n",
       "      <td>NaN</td>\n",
       "      <td>NaN</td>\n",
       "      <td>0.0</td>\n",
       "      <td>NaN</td>\n",
       "      <td>...</td>\n",
       "      <td>NaN</td>\n",
       "      <td>NaN</td>\n",
       "      <td>NaN</td>\n",
       "      <td>NaN</td>\n",
       "      <td>NaN</td>\n",
       "      <td>Chine</td>\n",
       "      <td>1416667</td>\n",
       "      <td>2013</td>\n",
       "      <td>0.000000e+00</td>\n",
       "      <td>5.170835e+06</td>\n",
       "    </tr>\n",
       "  </tbody>\n",
       "</table>\n",
       "<p>15325 rows × 26 columns</p>\n",
       "</div>"
      ],
      "text/plain": [
       "       Année_x  Code zone     Zone  Code Produit                   Produit  \\\n",
       "0         2013          1  Arménie          2511                       Blé   \n",
       "1         2013          1  Arménie          2513                      Orge   \n",
       "2         2013          1  Arménie          2514                      Maïs   \n",
       "3         2013          1  Arménie          2515                    Seigle   \n",
       "4         2013          1  Arménie          2516                    Avoine   \n",
       "...        ...        ...      ...           ...                       ...   \n",
       "15320     2013        351    Chine          2781        Huiles de Poissons   \n",
       "15321     2013        351    Chine          2782  Huiles de Foie de Poisso   \n",
       "15322     2013        351    Chine          2805          Riz (Eq Blanchi)   \n",
       "15323     2013        351    Chine          2848        Lait - Excl Beurre   \n",
       "15324     2013        351    Chine          2899              Miscellanees   \n",
       "\n",
       "       Origine  Aliments pour animaux  Autres utilisations (non alimentaire)  \\\n",
       "0      Vegetal                   93.0                                    0.0   \n",
       "1      Vegetal                  137.0                                   26.0   \n",
       "2      Vegetal                   96.0                                    NaN   \n",
       "3      Vegetal                    1.0                                    NaN   \n",
       "4      Vegetal                    4.0                                    NaN   \n",
       "...        ...                    ...                                    ...   \n",
       "15320  Animaux                   47.0                                   80.0   \n",
       "15321  Animaux                    0.0                                    0.0   \n",
       "15322  Vegetal                12117.0                                 2085.0   \n",
       "15323  Animaux                 1632.0                                   42.0   \n",
       "15324  Vegetal                    NaN                                    NaN   \n",
       "\n",
       "       Disponibilité alimentaire (Kcal/personne/jour)  \\\n",
       "0                                              1024.0   \n",
       "1                                                 0.0   \n",
       "2                                                 0.0   \n",
       "3                                                 1.0   \n",
       "4                                                 2.0   \n",
       "...                                               ...   \n",
       "15320                                             0.0   \n",
       "15321                                             0.0   \n",
       "15322                                           797.0   \n",
       "15323                                            59.0   \n",
       "15324                                             0.0   \n",
       "\n",
       "       Disponibilité alimentaire en quantité (kg/personne/an)  ...  Pertes  \\\n",
       "0                                                 130.60       ...    32.0   \n",
       "1                                                   0.00       ...    15.0   \n",
       "2                                                   0.03       ...     7.0   \n",
       "3                                                   0.12       ...     0.0   \n",
       "4                                                   0.37       ...     0.0   \n",
       "...                                                  ...       ...     ...   \n",
       "15320                                               0.00       ...     NaN   \n",
       "15321                                               0.00       ...     NaN   \n",
       "15322                                              77.45       ...  6406.0   \n",
       "15323                                              33.18       ...  1433.0   \n",
       "15324                                                NaN       ...     NaN   \n",
       "\n",
       "       Production  Semences  Traitement  Variation de stock   Zone_y  \\\n",
       "0           312.0      30.0        10.0              -118.0  Arménie   \n",
       "1           189.0      14.0         7.0                 0.0  Arménie   \n",
       "2            21.0       0.0         NaN                 NaN  Arménie   \n",
       "3             1.0       0.0         NaN                 0.0  Arménie   \n",
       "4             5.0       0.0         NaN                 NaN  Arménie   \n",
       "...           ...       ...         ...                 ...      ...   \n",
       "15320        50.0       NaN         NaN                 0.0    Chine   \n",
       "15321         0.0       NaN         NaN                 0.0    Chine   \n",
       "15322    136873.0    4679.0        12.0             -3998.0    Chine   \n",
       "15323     40570.0       NaN         0.0                 0.0    Chine   \n",
       "15324         NaN       NaN         NaN                 NaN    Chine   \n",
       "\n",
       "       Population  Année_y  Disponibilité alimentaire en Kcal  \\\n",
       "0            2977     2013                       1.112684e+12   \n",
       "1            2977     2013                       0.000000e+00   \n",
       "2            2977     2013                       0.000000e+00   \n",
       "3            2977     2013                       1.086605e+09   \n",
       "4            2977     2013                       2.173210e+09   \n",
       "...           ...      ...                                ...   \n",
       "15320     1416667     2013                       0.000000e+00   \n",
       "15321     1416667     2013                       0.000000e+00   \n",
       "15322     1416667     2013                       4.121155e+14   \n",
       "15323     1416667     2013                       3.050792e+13   \n",
       "15324     1416667     2013                       0.000000e+00   \n",
       "\n",
       "       Disponibilité alimentaire en kg de protéines  \n",
       "0                                      3.316318e+07  \n",
       "1                                      0.000000e+00  \n",
       "2                                      1.086605e+04  \n",
       "3                                      2.173210e+04  \n",
       "4                                      9.779445e+04  \n",
       "...                                             ...  \n",
       "15320                                  0.000000e+00  \n",
       "15321                                  0.000000e+00  \n",
       "15322                                  7.482198e+09  \n",
       "15323                                  1.613300e+09  \n",
       "15324                                  5.170835e+06  \n",
       "\n",
       "[15325 rows x 26 columns]"
      ]
     },
     "execution_count": 15,
     "metadata": {},
     "output_type": "execute_result"
    }
   ],
   "source": [
    "dispo_ali_pop['Disponibilité alimentaire en Kcal'] = dispo_ali_pop.loc[:,'Disponibilité alimentaire (Kcal/personne/jour)']*dispo_ali_pop.loc[:,'Population']*365*1000\n",
    "dispo_ali_pop['Disponibilité alimentaire en kg de protéines'] = dispo_ali_pop.loc[:,'Disponibilité de protéines en quantité (g/personne/jour)']*dispo_ali_pop.loc[:,'Population']*365*1000/1000\n",
    "dispo_ali_pop.drop(['Zone_y'], axis = 1)\n",
    "dispo_ali_pop = dispo_ali_pop.rename(columns  = {'Zone_x' : 'Zone'})\n",
    "dispo_ali_pop"
   ]
  },
  {
   "cell_type": "markdown",
   "metadata": {},
   "source": [
    " "
   ]
  },
  {
   "cell_type": "markdown",
   "metadata": {},
   "source": [
    " "
   ]
  },
  {
   "cell_type": "markdown",
   "metadata": {},
   "source": [
    " "
   ]
  },
  {
   "cell_type": "markdown",
   "metadata": {},
   "source": [
    " "
   ]
  },
  {
   "cell_type": "markdown",
   "metadata": {},
   "source": [
    "## Question 4 : Les ratios"
   ]
  },
  {
   "cell_type": "markdown",
   "metadata": {},
   "source": [
    "### Calcul des ratios"
   ]
  },
  {
   "cell_type": "code",
   "execution_count": 16,
   "metadata": {},
   "outputs": [],
   "source": [
    "dispo_ali_pop['Ratio (Energie/Poids)'] = dispo_ali_pop.loc[:,'Disponibilité alimentaire en Kcal']/(dispo_ali_pop.loc[:,'Nourriture']*1e6)\n",
    "dispo_ali_pop['Ratio de protéines (Poids Protéines / Poids Total)'] = dispo_ali_pop.loc[:,'Disponibilité alimentaire en kg de protéines']/(dispo_ali_pop.loc[:,'Nourriture']*1e6)\n",
    "\n",
    "dispo_ali_pop = dispo_ali_pop.replace(0,)\n",
    "dispo_ali_pop['Ratio (Energie/Poids)'] = dispo_ali_pop['Ratio (Energie/Poids)'].replace([np.inf, -np.inf], np.nan)\n",
    "\n",
    "dispo_ali_pop['Ratio de protéines (Poids Protéines / Poids Total)'] = dispo_ali_pop['Ratio de protéines (Poids Protéines / Poids Total)'].replace([np.inf, -np.inf], np.nan)"
   ]
  },
  {
   "cell_type": "markdown",
   "metadata": {},
   "source": [
    "### Calories "
   ]
  },
  {
   "cell_type": "code",
   "execution_count": 17,
   "metadata": {},
   "outputs": [
    {
     "data": {
      "text/plain": [
       "1343.4403490225568"
      ]
     },
     "execution_count": 17,
     "metadata": {},
     "output_type": "execute_result"
    }
   ],
   "source": [
    "dispo_ali_pop[dispo_ali_pop['Produit'] == 'Oeufs']['Ratio (Energie/Poids)'].mean()"
   ]
  },
  {
   "cell_type": "markdown",
   "metadata": {},
   "source": [
    "Pour vérifier si nos données sont exactes, nous allons comparer nos données avec la valeur calorique d'un oeuf."
   ]
  },
  {
   "attachments": {
    "Capture%203.PNG": {
     "image/png": "[encoded data removed]"
    }
   },
   "cell_type": "markdown",
   "metadata": {},
   "source": [
    "![Capture%203.PNG](attachment:Capture%203.PNG)\n",
    "Source : https://informationsnutritionnelles.fr/oeuf-dur"
   ]
  },
  {
   "cell_type": "markdown",
   "metadata": {},
   "source": [
    "On peut voir sur ce tableau que pour 100 grammes nous avons 134 kilocalories. Par conséquent, quel ratio (Energie / Poids) ça nous donnes ?"
   ]
  },
  {
   "cell_type": "code",
   "execution_count": 18,
   "metadata": {},
   "outputs": [
    {
     "data": {
      "text/plain": [
       "1340.0"
      ]
     },
     "execution_count": 18,
     "metadata": {},
     "output_type": "execute_result"
    }
   ],
   "source": [
    "gr = 100/1000\n",
    "kil = 134 #     Oeuf dur \n",
    "rat = kil/gr\n",
    "rat"
   ]
  },
  {
   "cell_type": "markdown",
   "metadata": {},
   "source": [
    "Notre ratio est égal à 1340 ce qui est quasiment égal à nos chiffres dans notre tableau."
   ]
  },
  {
   "cell_type": "markdown",
   "metadata": {},
   "source": [
    "On peut constater ci-dessus que notre ratio est quasiment au niveau de la médiane. Par conséquent, on peut déduire que c'est un ratio tout à fait normal et que nos données sont justes."
   ]
  },
  {
   "cell_type": "markdown",
   "metadata": {},
   "source": [
    " "
   ]
  },
  {
   "cell_type": "markdown",
   "metadata": {},
   "source": [
    "### Protéines"
   ]
  },
  {
   "cell_type": "markdown",
   "metadata": {},
   "source": [
    "A présent, passons à la comparaison de la teneur en protéines de l'avoine et de nos données. "
   ]
  },
  {
   "cell_type": "code",
   "execution_count": 19,
   "metadata": {},
   "outputs": [
    {
     "name": "stdout",
     "output_type": "stream",
     "text": [
      "Teneur en protéines de l'Avoine : 0.08436571123972142\n"
     ]
    }
   ],
   "source": [
    "print('Teneur en protéines de l\\'Avoine :', dispo_ali_pop[dispo_ali_pop['Produit'] == 'Avoine']['Ratio de protéines (Poids Protéines / Poids Total)'].mean())"
   ]
  },
  {
   "attachments": {
    "Capture%202.PNG": {
     "image/png": "[encoded data removed]"
    }
   },
   "cell_type": "markdown",
   "metadata": {},
   "source": [
    "![Capture%202.PNG](attachment:Capture%202.PNG)\n",
    "Source : https://fr.wikipedia.org/wiki/Avoine_cultiv%C3%A9e"
   ]
  },
  {
   "cell_type": "markdown",
   "metadata": {},
   "source": [
    "On aperçoit ci-dessus que pour 100 g d'avoine, nous avons 10,7 g de protéines. Maintenant, faisons le calcul :"
   ]
  },
  {
   "cell_type": "code",
   "execution_count": 20,
   "metadata": {},
   "outputs": [
    {
     "name": "stdout",
     "output_type": "stream",
     "text": [
      "0.107\n"
     ]
    }
   ],
   "source": [
    "avoi = 100\n",
    "pro = 10.70\n",
    "ten = (pro / avoi)\n",
    "print(ten)"
   ]
  },
  {
   "cell_type": "markdown",
   "metadata": {},
   "source": [
    "Ainsi, 0.107 de l'avoine sont des protéines. Ce dernier est proche de notre moyenne arrondie de 0.09 trouvée avec nos données. On peut, de ce fait en déduire que nos données sont exactes. "
   ]
  },
  {
   "cell_type": "markdown",
   "metadata": {},
   "source": [
    " "
   ]
  },
  {
   "cell_type": "markdown",
   "metadata": {},
   "source": [
    " "
   ]
  },
  {
   "cell_type": "markdown",
   "metadata": {},
   "source": [
    "## Question 5 : Ratios Calories / Protéines"
   ]
  },
  {
   "cell_type": "markdown",
   "metadata": {},
   "source": [
    " "
   ]
  },
  {
   "cell_type": "code",
   "execution_count": 21,
   "metadata": {},
   "outputs": [],
   "source": [
    "tri_n1 = dispo_ali_pop.groupby(['Produit']).mean().sort_values(by = 'Ratio (Energie/Poids)', ascending = False)\n",
    "tri_n2 = dispo_ali_pop.groupby(['Produit']).mean().sort_values(by = 'Ratio de protéines (Poids Protéines / Poids Total)', ascending = False)"
   ]
  },
  {
   "cell_type": "markdown",
   "metadata": {},
   "source": [
    "### Classement des aliments en fonction de leur ratio calorique"
   ]
  },
  {
   "cell_type": "markdown",
   "metadata": {},
   "source": [
    "#### Top 5"
   ]
  },
  {
   "cell_type": "code",
   "execution_count": 22,
   "metadata": {},
   "outputs": [
    {
     "data": {
      "text/plain": [
       "Produit\n",
       "Huiles de Foie de Poisso    9588.565208\n",
       "Huile de Son de Riz         9379.568137\n",
       "Huile de Sésame             9240.576603\n",
       "Huiles de Poissons          9003.715504\n",
       "Huile de Germe de Maïs      8903.396892\n",
       "Name: Ratio (Energie/Poids), dtype: float64"
      ]
     },
     "execution_count": 22,
     "metadata": {},
     "output_type": "execute_result"
    }
   ],
   "source": [
    "tri_n1['Ratio (Energie/Poids)'][:5]"
   ]
  },
  {
   "cell_type": "markdown",
   "metadata": {},
   "source": [
    " "
   ]
  },
  {
   "cell_type": "markdown",
   "metadata": {},
   "source": [
    "### Classement des aliments en fonction de leur pourcentage de protéines"
   ]
  },
  {
   "cell_type": "markdown",
   "metadata": {},
   "source": [
    "#### Top 5 "
   ]
  },
  {
   "cell_type": "code",
   "execution_count": 23,
   "metadata": {},
   "outputs": [
    {
     "data": {
      "text/plain": [
       "Produit\n",
       "Soja                      0.285156\n",
       "Arachides Decortiquees    0.251573\n",
       "Pois                      0.223219\n",
       "Légumineuses Autres       0.220366\n",
       "Haricots                  0.216532\n",
       "Name: Ratio de protéines (Poids Protéines / Poids Total), dtype: float64"
      ]
     },
     "execution_count": 23,
     "metadata": {},
     "output_type": "execute_result"
    }
   ],
   "source": [
    "tri_n2['Ratio de protéines (Poids Protéines / Poids Total)'][:5]"
   ]
  },
  {
   "cell_type": "markdown",
   "metadata": {},
   "source": [
    " "
   ]
  },
  {
   "cell_type": "markdown",
   "metadata": {},
   "source": [
    " "
   ]
  },
  {
   "cell_type": "markdown",
   "metadata": {},
   "source": [
    "## Question 6 :  Disponibilité intérieure"
   ]
  },
  {
   "cell_type": "code",
   "execution_count": 24,
   "metadata": {},
   "outputs": [],
   "source": [
    "data_bil_ali_vege = dispo_ali_pop[dispo_ali_pop['Origine'] == 'Vegetal']\n",
    "dispo_int_vege_kcal = (data_bil_ali_vege.loc[:,'Disponibilité intérieure']*1e6*data_bil_ali_vege.loc[:,'Ratio (Energie/Poids)']).sum()"
   ]
  },
  {
   "cell_type": "code",
   "execution_count": 25,
   "metadata": {},
   "outputs": [
    {
     "name": "stdout",
     "output_type": "stream",
     "text": [
      "Voici la disponibilité intérieure mondiale des végétaux :  1.2825176874992174e+16 Kcal\n"
     ]
    }
   ],
   "source": [
    "print('Voici la disponibilité intérieure mondiale des végétaux : ',dispo_int_vege_kcal,'Kcal')"
   ]
  },
  {
   "cell_type": "markdown",
   "metadata": {},
   "source": [
    " "
   ]
  },
  {
   "cell_type": "markdown",
   "metadata": {},
   "source": [
    " "
   ]
  },
  {
   "cell_type": "markdown",
   "metadata": {},
   "source": [
    " "
   ]
  },
  {
   "cell_type": "markdown",
   "metadata": {},
   "source": [
    "## Question 7 : Besoins mondiaux"
   ]
  },
  {
   "cell_type": "markdown",
   "metadata": {},
   "source": [
    "### Calories"
   ]
  },
  {
   "cell_type": "code",
   "execution_count": 26,
   "metadata": {},
   "outputs": [
    {
     "name": "stdout",
     "output_type": "stream",
     "text": [
      "Voici la disponibilité intérieure mondiale des végétaux :  1.2825176874992174e+16 Kcal\n"
     ]
    }
   ],
   "source": [
    "print('Voici la disponibilité intérieure mondiale des végétaux : ',dispo_int_vege_kcal,'Kcal')"
   ]
  },
  {
   "cell_type": "markdown",
   "metadata": {},
   "source": [
    "Une kilocalorie est égal à 1000 calories. Pour une population d'individus ordinaire, 100% masculine, on va se baser sur 2400 calories par jour (chiffre le plus cité)."
   ]
  },
  {
   "cell_type": "code",
   "execution_count": 27,
   "metadata": {},
   "outputs": [
    {
     "name": "stdout",
     "output_type": "stream",
     "text": [
      "On est capable de nourrir  14640612870.995632 individus de genre masculin sans activité physique régulière\n"
     ]
    }
   ],
   "source": [
    "pop_1 = dispo_int_vege_kcal/(2400*365)\n",
    "print(\"On est capable de nourrir \", pop_1, \"individus de genre masculin sans activité physique régulière\")"
   ]
  },
  {
   "cell_type": "markdown",
   "metadata": {},
   "source": [
    " "
   ]
  },
  {
   "cell_type": "markdown",
   "metadata": {},
   "source": [
    " "
   ]
  },
  {
   "cell_type": "markdown",
   "metadata": {},
   "source": [
    "Pour un population d'individus ordinaire, 100% féminine, on va se baser sur 1800 calories par jour (chiffre le plus cité)."
   ]
  },
  {
   "cell_type": "code",
   "execution_count": 28,
   "metadata": {},
   "outputs": [
    {
     "name": "stdout",
     "output_type": "stream",
     "text": [
      "On est capable de nourrir  19520817161.32751 individus de genre féminin sans activité physique régulière\n"
     ]
    }
   ],
   "source": [
    "pop_2 = dispo_int_vege_kcal/(1800*365)\n",
    "print(\"On est capable de nourrir \", pop_2, \"individus de genre féminin sans activité physique régulière\")"
   ]
  },
  {
   "cell_type": "markdown",
   "metadata": {},
   "source": [
    " "
   ]
  },
  {
   "cell_type": "markdown",
   "metadata": {},
   "source": [
    " "
   ]
  },
  {
   "cell_type": "markdown",
   "metadata": {},
   "source": [
    "Pour un population d'individus ordinaire, à parité égale, on va se baser sur 2100 kilocalories par jour (la moyenne de nos 2 montants)."
   ]
  },
  {
   "cell_type": "code",
   "execution_count": 29,
   "metadata": {},
   "outputs": [
    {
     "name": "stdout",
     "output_type": "stream",
     "text": [
      "On est capable de nourrir  16732128995.42358 individus de genre masculin ou féminin sans activité physique régulière\n"
     ]
    }
   ],
   "source": [
    "pop_3 = dispo_int_vege_kcal/(2100*365)\n",
    "print(\"On est capable de nourrir \", pop_3, \"individus de genre masculin ou féminin sans activité physique régulière\")"
   ]
  },
  {
   "cell_type": "markdown",
   "metadata": {},
   "source": [
    " "
   ]
  },
  {
   "cell_type": "code",
   "execution_count": 30,
   "metadata": {},
   "outputs": [
    {
     "name": "stdout",
     "output_type": "stream",
     "text": [
      "Sur l'ensemble de la population mondiale on est capable d'en nourrir  239.12175873217257 %\n"
     ]
    }
   ],
   "source": [
    "pop_mond = 6997326000\n",
    "print(\"Sur l'ensemble de la population mondiale on est capable d'en nourrir \", (pop_3/pop_mond)*100,\"%\")"
   ]
  },
  {
   "cell_type": "markdown",
   "metadata": {},
   "source": [
    " "
   ]
  },
  {
   "cell_type": "markdown",
   "metadata": {},
   "source": [
    " "
   ]
  },
  {
   "cell_type": "markdown",
   "metadata": {},
   "source": [
    "### Protéines "
   ]
  },
  {
   "cell_type": "code",
   "execution_count": 31,
   "metadata": {},
   "outputs": [
    {
     "name": "stdout",
     "output_type": "stream",
     "text": [
      "Voici la disponibilité intérieure mondiale des végétaux :  301873075874.702 Kg\n"
     ]
    }
   ],
   "source": [
    "dispo_int_vege_pro = (data_bil_ali_vege.loc[:,'Disponibilité intérieure']*1e6*data_bil_ali_vege.loc[:,'Ratio de protéines (Poids Protéines / Poids Total)']).sum()\n",
    "print('Voici la disponibilité intérieure mondiale des végétaux : ',dispo_int_vege_pro,'Kg')"
   ]
  },
  {
   "cell_type": "markdown",
   "metadata": {},
   "source": [
    "Pour une population composé de personne sédentaire pesant 62 kilos en moyenne, nous allons voir comment bien de personnes vont avoir leurs besoins en protéines comblés."
   ]
  },
  {
   "cell_type": "code",
   "execution_count": 32,
   "metadata": {},
   "outputs": [],
   "source": [
    "pop_pro = dispo_int_vege_pro/(0.8e-3*62*365)\n",
    "pop_mond = 6997326000\n",
    "pro_mond = pop_mond"
   ]
  },
  {
   "cell_type": "markdown",
   "metadata": {},
   "source": [
    " "
   ]
  },
  {
   "cell_type": "markdown",
   "metadata": {},
   "source": [
    "#### Besoins mondiaux en protéines"
   ]
  },
  {
   "cell_type": "markdown",
   "metadata": {},
   "source": [
    " "
   ]
  },
  {
   "cell_type": "code",
   "execution_count": 33,
   "metadata": {},
   "outputs": [
    {
     "name": "stdout",
     "output_type": "stream",
     "text": [
      "On est capable de subvenir aux besoins de  16674385543.233648  personnes\n",
      "La disponibilité en protéines est capable de subvenir à  238.29653703762907 % de la population mondiale\n"
     ]
    }
   ],
   "source": [
    "print(\"On est capable de subvenir aux besoins de \", pop_pro, \" personnes\") \n",
    "print(\"La disponibilité en protéines est capable de subvenir à \", (pop_pro/pro_mond)*100, \"% de la population mondiale\")"
   ]
  },
  {
   "cell_type": "markdown",
   "metadata": {},
   "source": [
    " "
   ]
  },
  {
   "cell_type": "markdown",
   "metadata": {},
   "source": [
    " "
   ]
  },
  {
   "cell_type": "markdown",
   "metadata": {},
   "source": [
    " "
   ]
  },
  {
   "cell_type": "markdown",
   "metadata": {},
   "source": [
    "### Question 8 : Capacités alimentaires"
   ]
  },
  {
   "cell_type": "code",
   "execution_count": 34,
   "metadata": {},
   "outputs": [],
   "source": [
    "dispo_ali_vege_kcal = (((data_bil_ali_vege.loc[:,'Aliments pour animaux']+data_bil_ali_vege.loc[:,'Pertes'])*data_bil_ali_vege.loc[:,'Ratio (Energie/Poids)']*1e6)+data_bil_ali_vege.loc[:,'Disponibilité alimentaire en Kcal']).sum()\n",
    "dispo_ali_vege_pro = (((data_bil_ali_vege.loc[:,'Aliments pour animaux']+data_bil_ali_vege.loc[:,'Pertes'])*data_bil_ali_vege.loc[:,'Ratio de protéines (Poids Protéines / Poids Total)']*1e6)+data_bil_ali_vege.loc[:,'Disponibilité alimentaire en kg de protéines']).sum()"
   ]
  },
  {
   "cell_type": "markdown",
   "metadata": {},
   "source": [
    " "
   ]
  },
  {
   "cell_type": "markdown",
   "metadata": {},
   "source": [
    "Quelle serait la disponibilité alimentaire mondiale si les produits végétaux destinées aux animaux et les pertes étaient utilisés pour la nourriture humaine ?"
   ]
  },
  {
   "cell_type": "markdown",
   "metadata": {},
   "source": [
    "### Calories "
   ]
  },
  {
   "cell_type": "code",
   "execution_count": 35,
   "metadata": {},
   "outputs": [
    {
     "name": "stdout",
     "output_type": "stream",
     "text": [
      "Voici la disponibilité intérieure mondiale des végétaux :  6370577035251982.0 Kcal\n"
     ]
    }
   ],
   "source": [
    "print('Voici la disponibilité intérieure mondiale des végétaux : ',dispo_ali_vege_kcal,'Kcal')"
   ]
  },
  {
   "cell_type": "code",
   "execution_count": 36,
   "metadata": {},
   "outputs": [
    {
     "name": "stdout",
     "output_type": "stream",
     "text": [
      "On est capable de nourrir  7272348213.75797 individus de genre masculin sans activité physique régulière\n"
     ]
    }
   ],
   "source": [
    "cap_1 = dispo_ali_vege_kcal/(2400*365)\n",
    "print(\"On est capable de nourrir \", cap_1, \"individus de genre masculin sans activité physique régulière\")"
   ]
  },
  {
   "cell_type": "markdown",
   "metadata": {},
   "source": [
    " "
   ]
  },
  {
   "cell_type": "markdown",
   "metadata": {},
   "source": [
    " "
   ]
  },
  {
   "cell_type": "markdown",
   "metadata": {},
   "source": [
    "Pour un population d'individus ordinaire, 100% féminine, on va se baser sur 1800 calories par jour (chiffre le plus cité)."
   ]
  },
  {
   "cell_type": "code",
   "execution_count": 37,
   "metadata": {},
   "outputs": [
    {
     "name": "stdout",
     "output_type": "stream",
     "text": [
      "On est capable de nourrir  9696464285.010628 individus de genre féminin sans activité physique régulière\n"
     ]
    }
   ],
   "source": [
    "cap_2 = dispo_ali_vege_kcal/(1800*365)\n",
    "print(\"On est capable de nourrir \", cap_2, \"individus de genre féminin sans activité physique régulière\")"
   ]
  },
  {
   "cell_type": "markdown",
   "metadata": {},
   "source": [
    " "
   ]
  },
  {
   "cell_type": "markdown",
   "metadata": {},
   "source": [
    " "
   ]
  },
  {
   "cell_type": "code",
   "execution_count": 38,
   "metadata": {},
   "outputs": [
    {
     "name": "stdout",
     "output_type": "stream",
     "text": [
      "On est capable de nourrir  8311255101.43768 individus de genre masculin ou féminin sans activité physique régulière\n"
     ]
    }
   ],
   "source": [
    "cap_3 = dispo_ali_vege_kcal/(2100*365)\n",
    "print(\"On est capable de nourrir \", cap_3, \"individus de genre masculin ou féminin sans activité physique régulière\")"
   ]
  },
  {
   "cell_type": "markdown",
   "metadata": {},
   "source": [
    " "
   ]
  },
  {
   "cell_type": "markdown",
   "metadata": {},
   "source": [
    " "
   ]
  },
  {
   "cell_type": "code",
   "execution_count": 39,
   "metadata": {},
   "outputs": [
    {
     "name": "stdout",
     "output_type": "stream",
     "text": [
      "Sur l'ensemble de la population mondiale on est capable d'en nourrir  118.77758877373556 %\n"
     ]
    }
   ],
   "source": [
    "pop_mond = 6997326000\n",
    "print(\"Sur l'ensemble de la population mondiale on est capable d'en nourrir \", (cap_3/pop_mond)*100,\"%\")"
   ]
  },
  {
   "cell_type": "markdown",
   "metadata": {},
   "source": [
    " "
   ]
  },
  {
   "cell_type": "markdown",
   "metadata": {},
   "source": [
    " "
   ]
  },
  {
   "cell_type": "markdown",
   "metadata": {},
   "source": [
    "### Protéines "
   ]
  },
  {
   "cell_type": "code",
   "execution_count": 40,
   "metadata": {},
   "outputs": [
    {
     "name": "stdout",
     "output_type": "stream",
     "text": [
      "Voici la disponibilité intérieure mondiale des végétaux :  172624396518.91815 Kg\n"
     ]
    }
   ],
   "source": [
    "print('Voici la disponibilité intérieure mondiale des végétaux : ',dispo_ali_vege_pro,'Kg')"
   ]
  },
  {
   "cell_type": "markdown",
   "metadata": {},
   "source": [
    "Pour une population composé de personne sédentaire pesant 62 kilos en moyenne, nous allons voir comment bien de personnes vont avoir leurs besoins en protéines comblés."
   ]
  },
  {
   "cell_type": "code",
   "execution_count": 41,
   "metadata": {},
   "outputs": [],
   "source": [
    "cap_pro = dispo_ali_vege_pro/(0.8e-3*62*365)\n",
    "pop_mond = 6997326000"
   ]
  },
  {
   "cell_type": "markdown",
   "metadata": {},
   "source": [
    " "
   ]
  },
  {
   "cell_type": "markdown",
   "metadata": {},
   "source": [
    "#### Besoins mondiaux en protéines"
   ]
  },
  {
   "cell_type": "markdown",
   "metadata": {},
   "source": [
    " "
   ]
  },
  {
   "cell_type": "code",
   "execution_count": 42,
   "metadata": {},
   "outputs": [
    {
     "name": "stdout",
     "output_type": "stream",
     "text": [
      "On est capable de subvenir aux besoins de  9535152260.214214  personnes\n",
      "La disponibilité en protéines est capable de subvenir à  136.26851543309851 % de la population mondiale\n"
     ]
    }
   ],
   "source": [
    "print(\"On est capable de subvenir aux besoins de \", cap_pro, \" personnes\") \n",
    "print(\"La disponibilité en protéines est capable de subvenir à \", (cap_pro/pop_mond)*100, \"% de la population mondiale\")"
   ]
  },
  {
   "cell_type": "markdown",
   "metadata": {},
   "source": [
    " "
   ]
  },
  {
   "cell_type": "markdown",
   "metadata": {},
   "source": [
    " "
   ]
  },
  {
   "cell_type": "markdown",
   "metadata": {},
   "source": [
    "## Question 9 : Disponibilité alimentaire mondiale "
   ]
  },
  {
   "cell_type": "code",
   "execution_count": 43,
   "metadata": {},
   "outputs": [],
   "source": [
    "dispo_ali_mond_kcal = dispo_ali_pop.loc[:,'Disponibilité alimentaire en Kcal'].sum()\n",
    "dispo_ali_mond_pro = dispo_ali_pop.loc[:,'Disponibilité alimentaire en kg de protéines'].sum()"
   ]
  },
  {
   "cell_type": "markdown",
   "metadata": {},
   "source": [
    "### Calories "
   ]
  },
  {
   "cell_type": "code",
   "execution_count": 44,
   "metadata": {},
   "outputs": [
    {
     "name": "stdout",
     "output_type": "stream",
     "text": [
      "Voici la disponibilité intérieure mondiale :  8936108423680000.0 Kcal\n"
     ]
    }
   ],
   "source": [
    "print('Voici la disponibilité intérieure mondiale : ',dispo_ali_mond_kcal,'Kcal')"
   ]
  },
  {
   "cell_type": "markdown",
   "metadata": {},
   "source": [
    " "
   ]
  },
  {
   "cell_type": "code",
   "execution_count": 45,
   "metadata": {},
   "outputs": [
    {
     "name": "stdout",
     "output_type": "stream",
     "text": [
      "On est capable de nourrir  10201037013.333334 individus de genre masculin sans activité physique régulière\n"
     ]
    }
   ],
   "source": [
    "dispo_1 = dispo_ali_mond_kcal/(2400*365)\n",
    "print(\"On est capable de nourrir \", dispo_1, \"individus de genre masculin sans activité physique régulière\")"
   ]
  },
  {
   "cell_type": "markdown",
   "metadata": {},
   "source": [
    " "
   ]
  },
  {
   "cell_type": "markdown",
   "metadata": {},
   "source": [
    " "
   ]
  },
  {
   "cell_type": "markdown",
   "metadata": {},
   "source": [
    "Pour un population d'individus ordinaire, 100% féminine, on va se baser sur 1800 calories par jour (chiffre le plus cité)."
   ]
  },
  {
   "cell_type": "code",
   "execution_count": 46,
   "metadata": {},
   "outputs": [
    {
     "name": "stdout",
     "output_type": "stream",
     "text": [
      "On est capable de nourrir  13601382684.444445 individus de genre féminin sans activité physique régulière\n"
     ]
    }
   ],
   "source": [
    "dispo_2 = dispo_ali_mond_kcal/(1800*365)\n",
    "print(\"On est capable de nourrir \", dispo_2, \"individus de genre féminin sans activité physique régulière\")"
   ]
  },
  {
   "cell_type": "markdown",
   "metadata": {},
   "source": [
    " "
   ]
  },
  {
   "cell_type": "markdown",
   "metadata": {},
   "source": [
    " "
   ]
  },
  {
   "cell_type": "code",
   "execution_count": 47,
   "metadata": {},
   "outputs": [
    {
     "name": "stdout",
     "output_type": "stream",
     "text": [
      "On est capable de nourrir  11658328015.238094 individus de genre masculin ou féminin sans activité physique régulière\n"
     ]
    }
   ],
   "source": [
    "dispo_3 = dispo_ali_mond_kcal/(2100*365)\n",
    "print(\"On est capable de nourrir \", dispo_3, \"individus de genre masculin ou féminin sans activité physique régulière\")"
   ]
  },
  {
   "cell_type": "markdown",
   "metadata": {},
   "source": [
    " "
   ]
  },
  {
   "cell_type": "markdown",
   "metadata": {},
   "source": [
    " "
   ]
  },
  {
   "cell_type": "code",
   "execution_count": 48,
   "metadata": {},
   "outputs": [
    {
     "name": "stdout",
     "output_type": "stream",
     "text": [
      "Sur l'ensemble de la population mondiale on est capable d'en nourrir  166.61118854885558 %\n"
     ]
    }
   ],
   "source": [
    "pop_mond = 6997326000\n",
    "print(\"Sur l'ensemble de la population mondiale on est capable d'en nourrir \", (dispo_3/pop_mond)*100,\"%\")"
   ]
  },
  {
   "cell_type": "markdown",
   "metadata": {},
   "source": [
    " "
   ]
  },
  {
   "cell_type": "markdown",
   "metadata": {},
   "source": [
    "### Protéines "
   ]
  },
  {
   "cell_type": "markdown",
   "metadata": {},
   "source": [
    " "
   ]
  },
  {
   "cell_type": "code",
   "execution_count": 49,
   "metadata": {},
   "outputs": [
    {
     "name": "stdout",
     "output_type": "stream",
     "text": [
      "Voici la disponibilité intérieure mondiale des végétaux :  248616939817.55 Kg\n"
     ]
    }
   ],
   "source": [
    "print('Voici la disponibilité intérieure mondiale des végétaux : ',dispo_ali_mond_pro,'Kg')"
   ]
  },
  {
   "cell_type": "markdown",
   "metadata": {},
   "source": [
    "Pour une population composé de personne sédentaire pesant 62 kilos en moyenne, nous allons voir comment bien de personnes vont avoir leurs besoins en protéines comblés."
   ]
  },
  {
   "cell_type": "code",
   "execution_count": 50,
   "metadata": {},
   "outputs": [],
   "source": [
    "cap_pro_mond = dispo_ali_mond_pro/(0.8e-3*62*365)"
   ]
  },
  {
   "cell_type": "markdown",
   "metadata": {},
   "source": [
    " "
   ]
  },
  {
   "cell_type": "markdown",
   "metadata": {},
   "source": [
    "#### Besoins mondiaux en protéines"
   ]
  },
  {
   "cell_type": "markdown",
   "metadata": {},
   "source": [
    " "
   ]
  },
  {
   "cell_type": "code",
   "execution_count": 51,
   "metadata": {},
   "outputs": [
    {
     "name": "stdout",
     "output_type": "stream",
     "text": [
      "On est capable de subvenir aux besoins de  13732707678.830643  personnes\n",
      "La disponibilité en protéines est capable de subvenir à  196.25650825516266 % de la population mondiale\n"
     ]
    }
   ],
   "source": [
    "print(\"On est capable de subvenir aux besoins de \", cap_pro_mond, \" personnes\") \n",
    "print(\"La disponibilité en protéines est capable de subvenir à \", (cap_pro_mond/pop_mond)*100, \"% de la population mondiale\")"
   ]
  },
  {
   "cell_type": "markdown",
   "metadata": {},
   "source": [
    " "
   ]
  },
  {
   "cell_type": "markdown",
   "metadata": {},
   "source": [
    " "
   ]
  },
  {
   "cell_type": "markdown",
   "metadata": {},
   "source": [
    " "
   ]
  },
  {
   "cell_type": "markdown",
   "metadata": {},
   "source": [
    "## Question 10 : Sous-nutrition "
   ]
  },
  {
   "cell_type": "code",
   "execution_count": 52,
   "metadata": {},
   "outputs": [],
   "source": [
    "data_sous_ali[data_sous_ali.Valeur == '<0.1'] = data_sous_ali[data_sous_ali.Valeur == '<0.1'].replace('<0.1', 0.01)\n",
    "data_sous_ali.loc[:,'Valeur'] = data_sous_ali.loc[:,'Valeur'].astype('float')\n",
    "\n",
    "pop_sous_nut = data_sous_ali[data_sous_ali['Année'] == '2012-2014']['Valeur'].sum()*1e6"
   ]
  },
  {
   "cell_type": "code",
   "execution_count": 53,
   "metadata": {},
   "outputs": [],
   "source": [
    "data_sous_sous = data_sous_ali[data_sous_ali['Année'] == '2012-2014']\n",
    "data_sous_ali_pop = pd.merge(data_sous_sous, data_pop, left_on = 'Code zone', right_on = 'Code zone')\n",
    "data_sous_ali_pop['Valeur'] = data_sous_ali_pop['Valeur']*1e6"
   ]
  },
  {
   "cell_type": "markdown",
   "metadata": {},
   "source": [
    " "
   ]
  },
  {
   "cell_type": "markdown",
   "metadata": {},
   "source": [
    " "
   ]
  },
  {
   "cell_type": "markdown",
   "metadata": {},
   "source": [
    "### Population mondiale en sous-nutrition en 2013"
   ]
  },
  {
   "cell_type": "code",
   "execution_count": 54,
   "metadata": {},
   "outputs": [
    {
     "name": "stdout",
     "output_type": "stream",
     "text": [
      "En 2013, la population mondiale en mondiale en sous_nutrition s'élevait à 744020000.0 de personnes en moyenne\n",
      "Cela représente 10.632918917883774 % de la population mondiale\n"
     ]
    }
   ],
   "source": [
    "sous_nu = pop_sous_nut\n",
    "print('En 2013, la population mondiale en mondiale en sous_nutrition s\\'élevait à', sous_nu, 'de personnes en moyenne')\n",
    "print('Cela représente', (sous_nu/pop_mond)*100, '% de la population mondiale')"
   ]
  },
  {
   "cell_type": "markdown",
   "metadata": {},
   "source": [
    " "
   ]
  },
  {
   "cell_type": "markdown",
   "metadata": {},
   "source": [
    " "
   ]
  },
  {
   "cell_type": "markdown",
   "metadata": {},
   "source": [
    "## Question 11 : L'arrivée de Boo"
   ]
  },
  {
   "cell_type": "markdown",
   "metadata": {},
   "source": [
    " "
   ]
  },
  {
   "cell_type": "markdown",
   "metadata": {},
   "source": [
    "### Création du Booléan "
   ]
  },
  {
   "cell_type": "code",
   "execution_count": 55,
   "metadata": {},
   "outputs": [],
   "source": [
    "data_boo = list(data_cere['Code Produit'])\n",
    "data_majin = list(dispo_ali_pop['Code Produit'])\n",
    "Is_cere = []\n",
    "x = 0\n",
    "for data in data_majin:\n",
    "           \n",
    "        if data in data_boo:\n",
    "            Is_cere.append(True)\n",
    "        else:\n",
    "            Is_cere.append(False)\n",
    "\n",
    "            \n",
    "dispo_ali_pop['Is_cere'] = Is_cere\n",
    "dispo_cere_boo = dispo_ali_pop[dispo_ali_pop['Is_cere'] == True]\n",
    "dispo_cere = dispo_cere_boo['Disponibilité intérieure'].sum()\n",
    "anie_maux = dispo_cere_boo['Aliments pour animaux'].sum()"
   ]
  },
  {
   "cell_type": "markdown",
   "metadata": {},
   "source": [
    " "
   ]
  },
  {
   "cell_type": "markdown",
   "metadata": {},
   "source": [
    "### Céréales destinées aux humains "
   ]
  },
  {
   "cell_type": "code",
   "execution_count": 56,
   "metadata": {},
   "outputs": [
    {
     "name": "stdout",
     "output_type": "stream",
     "text": [
      "Humains : 2608098.0  t\n"
     ]
    }
   ],
   "source": [
    "print('Humains :', dispo_cere,' t')"
   ]
  },
  {
   "cell_type": "markdown",
   "metadata": {},
   "source": [
    " "
   ]
  },
  {
   "cell_type": "markdown",
   "metadata": {},
   "source": [
    "### Céréales destinées aux animaux"
   ]
  },
  {
   "cell_type": "code",
   "execution_count": 57,
   "metadata": {},
   "outputs": [
    {
     "name": "stdout",
     "output_type": "stream",
     "text": [
      "Céréales destinées aux animaux : 979228.0  t\n"
     ]
    }
   ],
   "source": [
    "print('Céréales destinées aux animaux :', anie_maux,' t')"
   ]
  },
  {
   "cell_type": "markdown",
   "metadata": {},
   "source": [
    " "
   ]
  },
  {
   "cell_type": "markdown",
   "metadata": {},
   "source": [
    "### Proportion des céréales animales parmi les céréales destinées à l'alimentation "
   ]
  },
  {
   "cell_type": "code",
   "execution_count": 58,
   "metadata": {},
   "outputs": [
    {
     "name": "stdout",
     "output_type": "stream",
     "text": [
      "Les céréales destinées à l'alimentation animales représentent 27.296877953104904 % des céréales destinées à l'alimentation\n"
     ]
    }
   ],
   "source": [
    "print('Les céréales destinées à l\\'alimentation animales représentent', (anie_maux/(dispo_cere+anie_maux))*100, '% des céréales destinées à l\\'alimentation')"
   ]
  },
  {
   "cell_type": "markdown",
   "metadata": {},
   "source": [
    " "
   ]
  },
  {
   "cell_type": "markdown",
   "metadata": {},
   "source": [
    " "
   ]
  },
  {
   "cell_type": "markdown",
   "metadata": {},
   "source": [
    " "
   ]
  },
  {
   "cell_type": "markdown",
   "metadata": {},
   "source": [
    "## Question 12 :  Les boucles"
   ]
  },
  {
   "cell_type": "markdown",
   "metadata": {},
   "source": [
    "### Boucle des pays en sous-nutrition"
   ]
  },
  {
   "cell_type": "code",
   "execution_count": 59,
   "metadata": {},
   "outputs": [],
   "source": [
    "pays_sous = list(data_sous_ali['Zone'])\n",
    "pays_majin = list(dispo_ali_pop['Zone'])\n",
    "Is_sous = []\n",
    "\n",
    "for pays in pays_majin:\n",
    "           \n",
    "        if pays in pays_sous:\n",
    "            Is_sous.append(True)\n",
    "        else:\n",
    "            Is_sous.append(False)\n",
    "\n",
    "            \n",
    "dispo_ali_pop['Is_sous_alimenté?'] = Is_sous\n",
    "dispo_sous_nut_boo = dispo_ali_pop[dispo_ali_pop['Is_sous_alimenté?'] == True]"
   ]
  },
  {
   "cell_type": "markdown",
   "metadata": {},
   "source": [
    "### Boucle des produits les plus exportés"
   ]
  },
  {
   "cell_type": "code",
   "execution_count": 60,
   "metadata": {},
   "outputs": [],
   "source": [
    "prod_export = list(dispo_ali_pop['Produit'])\n",
    "prod_majin = list(dispo_ali_pop['Produit'])\n",
    "Is_export = []\n",
    "x = 0\n",
    "for produit in prod_majin:\n",
    "           \n",
    "        if produit in prod_export:\n",
    "            Is_export.append(True)\n",
    "        else:\n",
    "            Is_export.append(False)\n",
    "\n",
    "            \n",
    "dispo_ali_pop['Is_export?'] = Is_export\n",
    "\n",
    "dispo_export_boo = dispo_ali_pop[dispo_ali_pop['Is_export?'] == True]\n",
    "\n",
    "dispo_export_boo_fin = dispo_export_boo.groupby(['Produit']).sum()\n",
    "dispo_export_boo_fin = dispo_export_boo_fin.reset_index()\n",
    "dispo_export_boo_fin = dispo_export_boo_fin.sort_values(by = 'Exportations - Quantité', ascending = False)[:15]"
   ]
  },
  {
   "cell_type": "markdown",
   "metadata": {},
   "source": [
    "### Boucle des importations les importantes"
   ]
  },
  {
   "cell_type": "code",
   "execution_count": 61,
   "metadata": {},
   "outputs": [],
   "source": [
    "prod_import = list(dispo_export_boo_fin['Produit'])\n",
    "Is_import = []\n",
    "x = 0\n",
    "for produit in prod_majin:\n",
    "           \n",
    "        if produit in prod_import:\n",
    "            Is_import.append(True)\n",
    "        else:\n",
    "            Is_import.append(False)\n",
    "\n",
    "            \n",
    "dispo_ali_pop['Is_import?'] = Is_import\n",
    "dispo_import_boo = dispo_ali_pop[dispo_ali_pop['Is_import?'] == True]\n",
    "dispo_import_sort = dispo_import_boo.sort_values(by = 'Importations - Quantité', ascending = False)[0:200]\n",
    "dispo_import_sort = dispo_import_sort.groupby(['Produit']).sum()"
   ]
  },
  {
   "cell_type": "code",
   "execution_count": 62,
   "metadata": {},
   "outputs": [],
   "source": [
    "dispo_import_sort['Ratio (Autres utilisations (non alimentaire)/Disponibilité intérieure)'] = dispo_import_sort.loc[:,'Autres utilisations (non alimentaire)']/dispo_import_sort.loc[:,'Disponibilité intérieure']\n",
    "dispo_import_sort['Ratio (Aliments pour animaux/Disponibilité intérieure + Aliments pour animaux)'] = dispo_import_sort.loc[:,'Aliments pour animaux']/(dispo_import_sort.loc[:,'Disponibilité intérieure']+dispo_import_sort.loc[:,'Aliments pour animaux'])\n",
    "ratio_1 = dispo_import_sort.sort_values(by = 'Ratio (Autres utilisations (non alimentaire)/Disponibilité intérieure)', ascending = False)\n",
    "ratio_2 = dispo_import_sort.sort_values(by = 'Ratio (Aliments pour animaux/Disponibilité intérieure + Aliments pour animaux)', ascending = False)"
   ]
  },
  {
   "cell_type": "markdown",
   "metadata": {},
   "source": [
    " "
   ]
  },
  {
   "cell_type": "markdown",
   "metadata": {},
   "source": [
    " "
   ]
  },
  {
   "cell_type": "markdown",
   "metadata": {},
   "source": [
    "### Ratio (Autres utilisations (non alimentaire)/Disponibilité intérieure)"
   ]
  },
  {
   "cell_type": "markdown",
   "metadata": {},
   "source": [
    "### Top 3"
   ]
  },
  {
   "cell_type": "markdown",
   "metadata": {},
   "source": [
    " "
   ]
  },
  {
   "cell_type": "code",
   "execution_count": 63,
   "metadata": {},
   "outputs": [
    {
     "data": {
      "text/plain": [
       "Produit\n",
       "Huile de Palme    0.723990\n",
       "Manioc            0.265781\n",
       "Maïs              0.264413\n",
       "Name: Ratio (Autres utilisations (non alimentaire)/Disponibilité intérieure), dtype: float64"
      ]
     },
     "execution_count": 63,
     "metadata": {},
     "output_type": "execute_result"
    }
   ],
   "source": [
    "ratio_1['Ratio (Autres utilisations (non alimentaire)/Disponibilité intérieure)'][:3]"
   ]
  },
  {
   "cell_type": "markdown",
   "metadata": {},
   "source": [
    " "
   ]
  },
  {
   "cell_type": "markdown",
   "metadata": {},
   "source": [
    " "
   ]
  },
  {
   "cell_type": "markdown",
   "metadata": {},
   "source": [
    "### Ratio (Aliments pour animaux/Disponibilité intérieure + Aliments pour animaux)"
   ]
  },
  {
   "cell_type": "markdown",
   "metadata": {},
   "source": [
    "### Top 3"
   ]
  },
  {
   "cell_type": "code",
   "execution_count": 64,
   "metadata": {},
   "outputs": [
    {
     "data": {
      "text/plain": [
       "Produit\n",
       "Orge      0.379310\n",
       "Manioc    0.364825\n",
       "Maïs      0.363120\n",
       "Name: Ratio (Aliments pour animaux/Disponibilité intérieure + Aliments pour animaux), dtype: float64"
      ]
     },
     "execution_count": 64,
     "metadata": {},
     "output_type": "execute_result"
    }
   ],
   "source": [
    "ratio_2['Ratio (Aliments pour animaux/Disponibilité intérieure + Aliments pour animaux)'][:3]"
   ]
  },
  {
   "cell_type": "markdown",
   "metadata": {},
   "source": [
    " "
   ]
  },
  {
   "cell_type": "markdown",
   "metadata": {},
   "source": [
    " "
   ]
  },
  {
   "cell_type": "markdown",
   "metadata": {},
   "source": [
    " "
   ]
  },
  {
   "cell_type": "markdown",
   "metadata": {},
   "source": [
    " "
   ]
  },
  {
   "cell_type": "markdown",
   "metadata": {},
   "source": [
    "## Question 13 : Baisse de la production au USA "
   ]
  },
  {
   "cell_type": "code",
   "execution_count": 65,
   "metadata": {},
   "outputs": [],
   "source": [
    "dispo_import = dispo_import_boo[dispo_import_boo['Is_cere'] == True]\n",
    "\n",
    "df_usa = dispo_import[(dispo_import['Is_cere'] == True)&(dispo_import['Zone'] == 'États-Unis d\\'Amérique')]\n",
    "prod_cere = (df_usa['Aliments pour animaux']*1e6).sum()"
   ]
  },
  {
   "cell_type": "markdown",
   "metadata": {},
   "source": [
    " "
   ]
  },
  {
   "cell_type": "markdown",
   "metadata": {},
   "source": [
    "Combien de tonnes de vegetaux cela pourrait libérer si les USA baissaient de 10% leur production d'aliments pour animaux ?"
   ]
  },
  {
   "cell_type": "markdown",
   "metadata": {},
   "source": [
    " "
   ]
  },
  {
   "cell_type": "code",
   "execution_count": 66,
   "metadata": {},
   "outputs": [
    {
     "name": "stdout",
     "output_type": "stream",
     "text": [
      "Cela permettrait de libérer : 13584400000.0 t\n"
     ]
    }
   ],
   "source": [
    "print('Cela permettrait de libérer :',prod_cere*0.1, 't')"
   ]
  },
  {
   "cell_type": "code",
   "execution_count": 67,
   "metadata": {},
   "outputs": [],
   "source": [
    "prod_cere_kcal = (df_usa['Aliments pour animaux']*df_usa['Ratio (Energie/Poids)']*1e6).sum()\n",
    "prod_cere_pro = (df_usa['Aliments pour animaux']*df_usa['Ratio de protéines (Poids Protéines / Poids Total)']*1e6).sum()\n",
    "dispo_pro_cere = prod_cere_kcal/(2100*365)\n",
    "cap_cere_pro = prod_cere_pro/(0.8e-3*62*365)           #               A enlever\n"
   ]
  },
  {
   "cell_type": "code",
   "execution_count": 68,
   "metadata": {},
   "outputs": [
    {
     "name": "stdout",
     "output_type": "stream",
     "text": [
      "487750561.6132107\n",
      "6.970527907563699\n",
      "391340588.34628356\n",
      "5.592716251126267\n"
     ]
    }
   ],
   "source": [
    "print(dispo_pro_cere)\n",
    "print((dispo_pro_cere/pop_mond)*100)  #               A enlever\n",
    "print(cap_cere_pro)\n",
    "print((cap_cere_pro/pop_mond)*100)"
   ]
  },
  {
   "cell_type": "markdown",
   "metadata": {},
   "source": [
    " "
   ]
  },
  {
   "cell_type": "markdown",
   "metadata": {},
   "source": [
    " "
   ]
  },
  {
   "cell_type": "markdown",
   "metadata": {},
   "source": [
    " "
   ]
  },
  {
   "cell_type": "markdown",
   "metadata": {},
   "source": [
    "## Question 14 : Données"
   ]
  },
  {
   "cell_type": "code",
   "execution_count": 69,
   "metadata": {},
   "outputs": [],
   "source": [
    "manu_thai = dispo_ali_pop[(dispo_ali_pop.Zone == 'Thaïlande')&(dispo_ali_pop.Produit == 'Manioc')]\n",
    "sous_thai = data_sous_ali[(data_sous_ali.Zone == 'Thaïlande')&(data_sous_ali.Année == '2012-2014')]\n",
    "tsu_thai = dispo_ali_pop[dispo_ali_pop.Zone == 'Thaïlande']"
   ]
  },
  {
   "cell_type": "markdown",
   "metadata": {},
   "source": [
    "### Exportation de manioc en Thaïlande "
   ]
  },
  {
   "cell_type": "code",
   "execution_count": 70,
   "metadata": {},
   "outputs": [
    {
     "name": "stdout",
     "output_type": "stream",
     "text": [
      "Voici la proportion du Manioc qui est exporté en Thaïlande : 80.10038757227271 %\n"
     ]
    }
   ],
   "source": [
    "print('Voici la proportion du Manioc qui est exporté en Thaïlande :', (manu_thai.loc[:,'Exportations - Quantité'].sum()/(manu_thai.loc[:,'Exportations - Quantité'].sum()+manu_thai.loc[:,'Disponibilité intérieure'].sum()))*100, '%')"
   ]
  },
  {
   "cell_type": "markdown",
   "metadata": {},
   "source": [
    " "
   ]
  },
  {
   "cell_type": "markdown",
   "metadata": {},
   "source": [
    "### Proportion des personnes sous-alimentées en Thaïlande"
   ]
  },
  {
   "cell_type": "code",
   "execution_count": 71,
   "metadata": {},
   "outputs": [
    {
     "name": "stdout",
     "output_type": "stream",
     "text": [
      "Voici la part de la population en sous-nutrition en Thaïlande : 8.356836937219262e-06 % de la population totale\n"
     ]
    }
   ],
   "source": [
    "print('Voici la part de la population en sous-nutrition en Thaïlande :', ((sous_thai.loc[:,'Valeur'].mean())/(tsu_thai.loc[:,'Population'].mean()*1000))*100, '% de la population totale')"
   ]
  },
  {
   "cell_type": "markdown",
   "metadata": {},
   "source": [
    " "
   ]
  },
  {
   "cell_type": "markdown",
   "metadata": {},
   "source": [
    " "
   ]
  },
  {
   "cell_type": "markdown",
   "metadata": {},
   "source": [
    " "
   ]
  },
  {
   "cell_type": "markdown",
   "metadata": {},
   "source": [
    "## Question 15 : Table Population"
   ]
  },
  {
   "cell_type": "markdown",
   "metadata": {},
   "source": [
    "### Mise en forme "
   ]
  },
  {
   "cell_type": "code",
   "execution_count": 72,
   "metadata": {
    "scrolled": true
   },
   "outputs": [],
   "source": [
    "population = data_pop \n",
    "population['Population'] = population['Population']*1000\n",
    "population = population.rename(columns = {'Année':'annee','Zone':'pays','Code zone':'code_pays','Population':'population'})\n",
    "population = population[['pays', 'code_pays', 'annee', 'population']]"
   ]
  },
  {
   "cell_type": "markdown",
   "metadata": {},
   "source": [
    " "
   ]
  },
  {
   "cell_type": "markdown",
   "metadata": {},
   "source": [
    "### Exportation "
   ]
  },
  {
   "cell_type": "code",
   "execution_count": 73,
   "metadata": {},
   "outputs": [
    {
     "name": "stdout",
     "output_type": "stream",
     "text": [
      "Opened database successfully\n"
     ]
    }
   ],
   "source": [
    "import sqlite3\n",
    "conn = sqlite3.connect('Projet3.db')\n",
    "print (\"Opened database successfully\");\n",
    "c = conn.cursor()"
   ]
  },
  {
   "cell_type": "code",
   "execution_count": 74,
   "metadata": {
    "scrolled": true
   },
   "outputs": [],
   "source": [
    "# DROP IF EXISTS\n",
    "c.execute('DROP TABLE IF EXISTS population')\n",
    "# Création de la table popuation\n",
    "c.execute('''CREATE TABLE population (\n",
    "            pays TEXT,\n",
    "            code_pays INTEGER,\n",
    "            annee INTEGER,\n",
    "            population REAL,\n",
    "            CONSTRAINT pays_annee PRIMARY KEY (code_pays, annee))''')\n",
    "conn.commit()"
   ]
  },
  {
   "cell_type": "code",
   "execution_count": 75,
   "metadata": {},
   "outputs": [],
   "source": [
    "population.to_sql(\"population\", conn, if_exists = \"append\", index = False)"
   ]
  },
  {
   "cell_type": "markdown",
   "metadata": {},
   "source": [
    " "
   ]
  },
  {
   "cell_type": "markdown",
   "metadata": {},
   "source": [
    " "
   ]
  },
  {
   "cell_type": "markdown",
   "metadata": {},
   "source": [
    "## Question 16 : Table Disponibilité Alimentaire"
   ]
  },
  {
   "cell_type": "markdown",
   "metadata": {},
   "source": [
    "### Mise en forme "
   ]
  },
  {
   "cell_type": "code",
   "execution_count": 76,
   "metadata": {},
   "outputs": [],
   "source": [
    "dispo_alim = data_dispo_ali.drop(['Aliments pour animaux', 'Autres utilisations (non alimentaire)','Exportations - Quantité','Importations - Quantité', 'Nourriture', 'Pertes', 'Production','Semences', 'Traitement', 'Variation de stock','Autres utilisations (non alimentaire)', 'Disponibilité intérieure'], axis = 1)\n",
    "dispo_alim['Disponibilité alimentaire en quantité (kg/personne/an)'] = (data_dispo_ali['Disponibilité alimentaire en quantité (kg/personne/an)']*dispo_ali_pop['Population'])/1000\n",
    "\n",
    "dispo_alim = dispo_alim.rename(columns = {'Année':'annee','Zone':'pays','Code zone':'code_pays','Origine':'origine','Produit':'produit','Disponibilité alimentaire en quantité (kg/personne/an)' : 'dispo_alim_tonnes', 'Code Produit': 'code_produit','Disponibilité alimentaire (Kcal/personne/jour)':'dispo_alim_kcal_p_j','Disponibilité de matière grasse en quantité (g/personne/jour)':'dispo_mat_gr','Disponibilité de protéines en quantité (g/personne/jour)':'dispo_prot' })\n",
    "dispo_alim = dispo_alim[['pays','code_pays', 'annee','produit','code_produit', 'origine', 'dispo_alim_tonnes', 'dispo_alim_kcal_p_j', 'dispo_prot', 'dispo_mat_gr']]"
   ]
  },
  {
   "cell_type": "markdown",
   "metadata": {},
   "source": [
    " "
   ]
  },
  {
   "cell_type": "markdown",
   "metadata": {},
   "source": [
    "### Exportation "
   ]
  },
  {
   "cell_type": "code",
   "execution_count": 77,
   "metadata": {},
   "outputs": [],
   "source": [
    "# DROP IF EXISTS\n",
    "c.execute('DROP TABLE IF EXISTS dispo_alim')\n",
    "# Création de la table dispo_alim\n",
    "c.execute('''CREATE TABLE dispo_alim(\n",
    "            pays TEXT,\n",
    "            code_pays INTEGER,\n",
    "            annee INTEGER,\n",
    "            produit TEXT,\n",
    "            code_produit INTEGER,\n",
    "            origine TEXT,\n",
    "            dispo_alim_tonnes REAL,\n",
    "            dispo_alim_kcal_p_j REAL,\n",
    "            dispo_prot REAL,\n",
    "            dispo_mat_gr REAL,\n",
    "            CONSTRAINT pays_annee PRIMARY KEY (code_pays, annee, code_produit))''')\n",
    "conn.commit()"
   ]
  },
  {
   "cell_type": "code",
   "execution_count": 78,
   "metadata": {},
   "outputs": [],
   "source": [
    "dispo_alim.to_sql(\"dispo_alim\", conn, if_exists = \"append\", index = False)"
   ]
  },
  {
   "cell_type": "markdown",
   "metadata": {},
   "source": [
    " "
   ]
  },
  {
   "cell_type": "markdown",
   "metadata": {},
   "source": [
    " "
   ]
  },
  {
   "cell_type": "markdown",
   "metadata": {},
   "source": [
    " "
   ]
  },
  {
   "cell_type": "markdown",
   "metadata": {},
   "source": [
    "## Question 17 : Table Equilibre des produits"
   ]
  },
  {
   "cell_type": "markdown",
   "metadata": {},
   "source": [
    "### Mise en forme "
   ]
  },
  {
   "cell_type": "code",
   "execution_count": 79,
   "metadata": {},
   "outputs": [
    {
     "data": {
      "text/html": [
       "<div>\n",
       "<style scoped>\n",
       "    .dataframe tbody tr th:only-of-type {\n",
       "        vertical-align: middle;\n",
       "    }\n",
       "\n",
       "    .dataframe tbody tr th {\n",
       "        vertical-align: top;\n",
       "    }\n",
       "\n",
       "    .dataframe thead th {\n",
       "        text-align: right;\n",
       "    }\n",
       "</style>\n",
       "<table border=\"1\" class=\"dataframe\">\n",
       "  <thead>\n",
       "    <tr style=\"text-align: right;\">\n",
       "      <th></th>\n",
       "      <th>Année_x</th>\n",
       "      <th>Code zone</th>\n",
       "      <th>Zone</th>\n",
       "      <th>Code Produit</th>\n",
       "      <th>Produit</th>\n",
       "      <th>Origine</th>\n",
       "      <th>Aliments pour animaux</th>\n",
       "      <th>Autres utilisations (non alimentaire)</th>\n",
       "      <th>Disponibilité alimentaire (Kcal/personne/jour)</th>\n",
       "      <th>Disponibilité alimentaire en quantité (kg/personne/an)</th>\n",
       "      <th>...</th>\n",
       "      <th>Population</th>\n",
       "      <th>Année_y</th>\n",
       "      <th>Disponibilité alimentaire en Kcal</th>\n",
       "      <th>Disponibilité alimentaire en kg de protéines</th>\n",
       "      <th>Ratio (Energie/Poids)</th>\n",
       "      <th>Ratio de protéines (Poids Protéines / Poids Total)</th>\n",
       "      <th>Is_cere</th>\n",
       "      <th>Is_sous_alimenté?</th>\n",
       "      <th>Is_export?</th>\n",
       "      <th>Is_import?</th>\n",
       "    </tr>\n",
       "  </thead>\n",
       "  <tbody>\n",
       "    <tr>\n",
       "      <th>0</th>\n",
       "      <td>2013</td>\n",
       "      <td>1</td>\n",
       "      <td>Arménie</td>\n",
       "      <td>2511</td>\n",
       "      <td>Blé</td>\n",
       "      <td>Vegetal</td>\n",
       "      <td>93.0</td>\n",
       "      <td>0.0</td>\n",
       "      <td>1024.0</td>\n",
       "      <td>130.60</td>\n",
       "      <td>...</td>\n",
       "      <td>2977</td>\n",
       "      <td>2013</td>\n",
       "      <td>1.112684e+12</td>\n",
       "      <td>3.316318e+07</td>\n",
       "      <td>2860.368946</td>\n",
       "      <td>0.085252</td>\n",
       "      <td>True</td>\n",
       "      <td>True</td>\n",
       "      <td>True</td>\n",
       "      <td>True</td>\n",
       "    </tr>\n",
       "    <tr>\n",
       "      <th>1</th>\n",
       "      <td>2013</td>\n",
       "      <td>1</td>\n",
       "      <td>Arménie</td>\n",
       "      <td>2513</td>\n",
       "      <td>Orge</td>\n",
       "      <td>Vegetal</td>\n",
       "      <td>137.0</td>\n",
       "      <td>26.0</td>\n",
       "      <td>1024.0</td>\n",
       "      <td>130.60</td>\n",
       "      <td>...</td>\n",
       "      <td>2977</td>\n",
       "      <td>2013</td>\n",
       "      <td>1.112684e+12</td>\n",
       "      <td>3.316318e+07</td>\n",
       "      <td>NaN</td>\n",
       "      <td>NaN</td>\n",
       "      <td>True</td>\n",
       "      <td>True</td>\n",
       "      <td>True</td>\n",
       "      <td>True</td>\n",
       "    </tr>\n",
       "    <tr>\n",
       "      <th>2</th>\n",
       "      <td>2013</td>\n",
       "      <td>1</td>\n",
       "      <td>Arménie</td>\n",
       "      <td>2514</td>\n",
       "      <td>Maïs</td>\n",
       "      <td>Vegetal</td>\n",
       "      <td>96.0</td>\n",
       "      <td>NaN</td>\n",
       "      <td>1024.0</td>\n",
       "      <td>0.03</td>\n",
       "      <td>...</td>\n",
       "      <td>2977</td>\n",
       "      <td>2013</td>\n",
       "      <td>1.112684e+12</td>\n",
       "      <td>1.086605e+04</td>\n",
       "      <td>NaN</td>\n",
       "      <td>NaN</td>\n",
       "      <td>True</td>\n",
       "      <td>True</td>\n",
       "      <td>True</td>\n",
       "      <td>True</td>\n",
       "    </tr>\n",
       "    <tr>\n",
       "      <th>3</th>\n",
       "      <td>2013</td>\n",
       "      <td>1</td>\n",
       "      <td>Arménie</td>\n",
       "      <td>2515</td>\n",
       "      <td>Seigle</td>\n",
       "      <td>Vegetal</td>\n",
       "      <td>1.0</td>\n",
       "      <td>NaN</td>\n",
       "      <td>1.0</td>\n",
       "      <td>0.12</td>\n",
       "      <td>...</td>\n",
       "      <td>2977</td>\n",
       "      <td>2013</td>\n",
       "      <td>1.086605e+09</td>\n",
       "      <td>2.173210e+04</td>\n",
       "      <td>NaN</td>\n",
       "      <td>NaN</td>\n",
       "      <td>True</td>\n",
       "      <td>True</td>\n",
       "      <td>True</td>\n",
       "      <td>True</td>\n",
       "    </tr>\n",
       "    <tr>\n",
       "      <th>4</th>\n",
       "      <td>2013</td>\n",
       "      <td>1</td>\n",
       "      <td>Arménie</td>\n",
       "      <td>2516</td>\n",
       "      <td>Avoine</td>\n",
       "      <td>Vegetal</td>\n",
       "      <td>4.0</td>\n",
       "      <td>NaN</td>\n",
       "      <td>2.0</td>\n",
       "      <td>0.37</td>\n",
       "      <td>...</td>\n",
       "      <td>2977</td>\n",
       "      <td>2013</td>\n",
       "      <td>2.173210e+09</td>\n",
       "      <td>9.779445e+04</td>\n",
       "      <td>2173.210000</td>\n",
       "      <td>0.097794</td>\n",
       "      <td>True</td>\n",
       "      <td>True</td>\n",
       "      <td>True</td>\n",
       "      <td>False</td>\n",
       "    </tr>\n",
       "    <tr>\n",
       "      <th>...</th>\n",
       "      <td>...</td>\n",
       "      <td>...</td>\n",
       "      <td>...</td>\n",
       "      <td>...</td>\n",
       "      <td>...</td>\n",
       "      <td>...</td>\n",
       "      <td>...</td>\n",
       "      <td>...</td>\n",
       "      <td>...</td>\n",
       "      <td>...</td>\n",
       "      <td>...</td>\n",
       "      <td>...</td>\n",
       "      <td>...</td>\n",
       "      <td>...</td>\n",
       "      <td>...</td>\n",
       "      <td>...</td>\n",
       "      <td>...</td>\n",
       "      <td>...</td>\n",
       "      <td>...</td>\n",
       "      <td>...</td>\n",
       "      <td>...</td>\n",
       "    </tr>\n",
       "    <tr>\n",
       "      <th>15320</th>\n",
       "      <td>2013</td>\n",
       "      <td>351</td>\n",
       "      <td>Chine</td>\n",
       "      <td>2781</td>\n",
       "      <td>Huiles de Poissons</td>\n",
       "      <td>Animaux</td>\n",
       "      <td>47.0</td>\n",
       "      <td>80.0</td>\n",
       "      <td>9.0</td>\n",
       "      <td>9.24</td>\n",
       "      <td>...</td>\n",
       "      <td>1416667</td>\n",
       "      <td>2013</td>\n",
       "      <td>4.653751e+12</td>\n",
       "      <td>3.567876e+08</td>\n",
       "      <td>NaN</td>\n",
       "      <td>NaN</td>\n",
       "      <td>False</td>\n",
       "      <td>True</td>\n",
       "      <td>True</td>\n",
       "      <td>False</td>\n",
       "    </tr>\n",
       "    <tr>\n",
       "      <th>15321</th>\n",
       "      <td>2013</td>\n",
       "      <td>351</td>\n",
       "      <td>Chine</td>\n",
       "      <td>2782</td>\n",
       "      <td>Huiles de Foie de Poisso</td>\n",
       "      <td>Animaux</td>\n",
       "      <td>47.0</td>\n",
       "      <td>80.0</td>\n",
       "      <td>9.0</td>\n",
       "      <td>9.24</td>\n",
       "      <td>...</td>\n",
       "      <td>1416667</td>\n",
       "      <td>2013</td>\n",
       "      <td>4.653751e+12</td>\n",
       "      <td>3.567876e+08</td>\n",
       "      <td>NaN</td>\n",
       "      <td>NaN</td>\n",
       "      <td>False</td>\n",
       "      <td>True</td>\n",
       "      <td>True</td>\n",
       "      <td>False</td>\n",
       "    </tr>\n",
       "    <tr>\n",
       "      <th>15322</th>\n",
       "      <td>2013</td>\n",
       "      <td>351</td>\n",
       "      <td>Chine</td>\n",
       "      <td>2805</td>\n",
       "      <td>Riz (Eq Blanchi)</td>\n",
       "      <td>Vegetal</td>\n",
       "      <td>12117.0</td>\n",
       "      <td>2085.0</td>\n",
       "      <td>797.0</td>\n",
       "      <td>77.45</td>\n",
       "      <td>...</td>\n",
       "      <td>1416667</td>\n",
       "      <td>2013</td>\n",
       "      <td>4.121155e+14</td>\n",
       "      <td>7.482198e+09</td>\n",
       "      <td>3755.894405</td>\n",
       "      <td>0.068190</td>\n",
       "      <td>True</td>\n",
       "      <td>True</td>\n",
       "      <td>True</td>\n",
       "      <td>True</td>\n",
       "    </tr>\n",
       "    <tr>\n",
       "      <th>15323</th>\n",
       "      <td>2013</td>\n",
       "      <td>351</td>\n",
       "      <td>Chine</td>\n",
       "      <td>2848</td>\n",
       "      <td>Lait - Excl Beurre</td>\n",
       "      <td>Animaux</td>\n",
       "      <td>1632.0</td>\n",
       "      <td>42.0</td>\n",
       "      <td>59.0</td>\n",
       "      <td>33.18</td>\n",
       "      <td>...</td>\n",
       "      <td>1416667</td>\n",
       "      <td>2013</td>\n",
       "      <td>3.050792e+13</td>\n",
       "      <td>1.613300e+09</td>\n",
       "      <td>648.980490</td>\n",
       "      <td>0.034319</td>\n",
       "      <td>False</td>\n",
       "      <td>True</td>\n",
       "      <td>True</td>\n",
       "      <td>True</td>\n",
       "    </tr>\n",
       "    <tr>\n",
       "      <th>15324</th>\n",
       "      <td>2013</td>\n",
       "      <td>351</td>\n",
       "      <td>Chine</td>\n",
       "      <td>2899</td>\n",
       "      <td>Miscellanees</td>\n",
       "      <td>Vegetal</td>\n",
       "      <td>NaN</td>\n",
       "      <td>NaN</td>\n",
       "      <td>59.0</td>\n",
       "      <td>NaN</td>\n",
       "      <td>...</td>\n",
       "      <td>1416667</td>\n",
       "      <td>2013</td>\n",
       "      <td>3.050792e+13</td>\n",
       "      <td>5.170835e+06</td>\n",
       "      <td>NaN</td>\n",
       "      <td>NaN</td>\n",
       "      <td>False</td>\n",
       "      <td>True</td>\n",
       "      <td>True</td>\n",
       "      <td>False</td>\n",
       "    </tr>\n",
       "  </tbody>\n",
       "</table>\n",
       "<p>15325 rows × 32 columns</p>\n",
       "</div>"
      ],
      "text/plain": [
       "       Année_x  Code zone     Zone  Code Produit                   Produit  \\\n",
       "0         2013          1  Arménie          2511                       Blé   \n",
       "1         2013          1  Arménie          2513                      Orge   \n",
       "2         2013          1  Arménie          2514                      Maïs   \n",
       "3         2013          1  Arménie          2515                    Seigle   \n",
       "4         2013          1  Arménie          2516                    Avoine   \n",
       "...        ...        ...      ...           ...                       ...   \n",
       "15320     2013        351    Chine          2781        Huiles de Poissons   \n",
       "15321     2013        351    Chine          2782  Huiles de Foie de Poisso   \n",
       "15322     2013        351    Chine          2805          Riz (Eq Blanchi)   \n",
       "15323     2013        351    Chine          2848        Lait - Excl Beurre   \n",
       "15324     2013        351    Chine          2899              Miscellanees   \n",
       "\n",
       "       Origine  Aliments pour animaux  Autres utilisations (non alimentaire)  \\\n",
       "0      Vegetal                   93.0                                    0.0   \n",
       "1      Vegetal                  137.0                                   26.0   \n",
       "2      Vegetal                   96.0                                    NaN   \n",
       "3      Vegetal                    1.0                                    NaN   \n",
       "4      Vegetal                    4.0                                    NaN   \n",
       "...        ...                    ...                                    ...   \n",
       "15320  Animaux                   47.0                                   80.0   \n",
       "15321  Animaux                   47.0                                   80.0   \n",
       "15322  Vegetal                12117.0                                 2085.0   \n",
       "15323  Animaux                 1632.0                                   42.0   \n",
       "15324  Vegetal                    NaN                                    NaN   \n",
       "\n",
       "       Disponibilité alimentaire (Kcal/personne/jour)  \\\n",
       "0                                              1024.0   \n",
       "1                                              1024.0   \n",
       "2                                              1024.0   \n",
       "3                                                 1.0   \n",
       "4                                                 2.0   \n",
       "...                                               ...   \n",
       "15320                                             9.0   \n",
       "15321                                             9.0   \n",
       "15322                                           797.0   \n",
       "15323                                            59.0   \n",
       "15324                                            59.0   \n",
       "\n",
       "       Disponibilité alimentaire en quantité (kg/personne/an)  ...  \\\n",
       "0                                                 130.60       ...   \n",
       "1                                                 130.60       ...   \n",
       "2                                                   0.03       ...   \n",
       "3                                                   0.12       ...   \n",
       "4                                                   0.37       ...   \n",
       "...                                                  ...       ...   \n",
       "15320                                               9.24       ...   \n",
       "15321                                               9.24       ...   \n",
       "15322                                              77.45       ...   \n",
       "15323                                              33.18       ...   \n",
       "15324                                                NaN       ...   \n",
       "\n",
       "       Population  Année_y  Disponibilité alimentaire en Kcal  \\\n",
       "0            2977     2013                       1.112684e+12   \n",
       "1            2977     2013                       1.112684e+12   \n",
       "2            2977     2013                       1.112684e+12   \n",
       "3            2977     2013                       1.086605e+09   \n",
       "4            2977     2013                       2.173210e+09   \n",
       "...           ...      ...                                ...   \n",
       "15320     1416667     2013                       4.653751e+12   \n",
       "15321     1416667     2013                       4.653751e+12   \n",
       "15322     1416667     2013                       4.121155e+14   \n",
       "15323     1416667     2013                       3.050792e+13   \n",
       "15324     1416667     2013                       3.050792e+13   \n",
       "\n",
       "       Disponibilité alimentaire en kg de protéines  Ratio (Energie/Poids)  \\\n",
       "0                                      3.316318e+07            2860.368946   \n",
       "1                                      3.316318e+07                    NaN   \n",
       "2                                      1.086605e+04                    NaN   \n",
       "3                                      2.173210e+04                    NaN   \n",
       "4                                      9.779445e+04            2173.210000   \n",
       "...                                             ...                    ...   \n",
       "15320                                  3.567876e+08                    NaN   \n",
       "15321                                  3.567876e+08                    NaN   \n",
       "15322                                  7.482198e+09            3755.894405   \n",
       "15323                                  1.613300e+09             648.980490   \n",
       "15324                                  5.170835e+06                    NaN   \n",
       "\n",
       "       Ratio de protéines (Poids Protéines / Poids Total)  Is_cere  \\\n",
       "0                                               0.085252      True   \n",
       "1                                                    NaN      True   \n",
       "2                                                    NaN      True   \n",
       "3                                                    NaN      True   \n",
       "4                                               0.097794      True   \n",
       "...                                                  ...       ...   \n",
       "15320                                                NaN     False   \n",
       "15321                                                NaN     False   \n",
       "15322                                           0.068190      True   \n",
       "15323                                           0.034319     False   \n",
       "15324                                                NaN     False   \n",
       "\n",
       "       Is_sous_alimenté?  Is_export?  Is_import?  \n",
       "0                   True        True        True  \n",
       "1                   True        True        True  \n",
       "2                   True        True        True  \n",
       "3                   True        True        True  \n",
       "4                   True        True       False  \n",
       "...                  ...         ...         ...  \n",
       "15320               True        True       False  \n",
       "15321               True        True       False  \n",
       "15322               True        True        True  \n",
       "15323               True        True        True  \n",
       "15324               True        True       False  \n",
       "\n",
       "[15325 rows x 32 columns]"
      ]
     },
     "execution_count": 79,
     "metadata": {},
     "output_type": "execute_result"
    }
   ],
   "source": [
    "dispo_ali_pop"
   ]
  },
  {
   "cell_type": "code",
   "execution_count": 80,
   "metadata": {},
   "outputs": [],
   "source": [
    "equilibre_prod = data_dispo_ali.drop(['Exportations - Quantité','Importations - Quantité', 'Origine','Disponibilité alimentaire (Kcal/personne/jour)','Disponibilité alimentaire en quantité (kg/personne/an)','Disponibilité de matière grasse en quantité (g/personne/jour)','Production','Disponibilité de protéines en quantité (g/personne/jour)','Variation de stock'], axis = 1)\n",
    "equilibre_prod = equilibre_prod.rename(columns = {'Année':'annee','Zone':'pays','Code zone':'code_pays','Produit':'produit','Code Produit': 'code_produit','Aliments pour animaux' : 'alim_ani','Autres utilisations (non alimentaire)':'autres_utilisations','Disponibilité intérieure':'dispo_int','Nourriture':'nourriture','Pertes':'pertes','Semences':'semences','Traitement':'transfo'})\n",
    "equilibre_prod = equilibre_prod[['code_pays','pays', 'annee', 'code_produit','produit', 'dispo_int', 'alim_ani', 'semences', 'pertes', 'transfo', 'nourriture', 'autres_utilisations']] "
   ]
  },
  {
   "cell_type": "markdown",
   "metadata": {},
   "source": [
    " "
   ]
  },
  {
   "cell_type": "markdown",
   "metadata": {},
   "source": [
    "### Exportation "
   ]
  },
  {
   "cell_type": "code",
   "execution_count": 81,
   "metadata": {},
   "outputs": [],
   "source": [
    "# DROP IF EXISTS\n",
    "c.execute('DROP TABLE IF EXISTS equilibre_prod')\n",
    "# Création de la table dispo_alim\n",
    "c.execute('''CREATE TABLE equilibre_prod (\n",
    "            pays TEXT,\n",
    "            code_pays INTEGER,\n",
    "            annee INTEGER,\n",
    "            produit TEXT,\n",
    "            code_produit INTEGER,\n",
    "            dispo_int REAL,\n",
    "            alim_ani REAL,\n",
    "            semences REAL,\n",
    "            pertes REAL,\n",
    "            transfo REAL,\n",
    "            nourriture REAL,\n",
    "            autres_utilisations REAL,\n",
    "            CONSTRAINT pays_annee PRIMARY KEY (code_pays, annee, code_produit))''')\n",
    "conn.commit()"
   ]
  },
  {
   "cell_type": "code",
   "execution_count": 82,
   "metadata": {},
   "outputs": [],
   "source": [
    "equilibre_prod.to_sql(\"equilibre_prod\", conn, if_exists = \"append\", index = False)"
   ]
  },
  {
   "cell_type": "markdown",
   "metadata": {},
   "source": [
    " "
   ]
  },
  {
   "cell_type": "markdown",
   "metadata": {},
   "source": [
    " "
   ]
  },
  {
   "cell_type": "markdown",
   "metadata": {},
   "source": [
    " "
   ]
  },
  {
   "cell_type": "markdown",
   "metadata": {},
   "source": [
    " "
   ]
  },
  {
   "cell_type": "markdown",
   "metadata": {},
   "source": [
    " "
   ]
  },
  {
   "cell_type": "markdown",
   "metadata": {},
   "source": [
    "## Question 18 : Table Sous-Nutrition"
   ]
  },
  {
   "cell_type": "markdown",
   "metadata": {},
   "source": [
    "### Mise en forme "
   ]
  },
  {
   "cell_type": "code",
   "execution_count": 83,
   "metadata": {},
   "outputs": [],
   "source": [
    "sous_nutrition = data_sous_ali.drop(['Unité'], axis = 1)\n",
    "sous_nutrition['Valeur'] = sous_nutrition['Valeur']\n",
    "sous_nutrition.loc[sous_nutrition['Année'] == '2012-2014','Année'] = 2013\n",
    "sous_nutrition.loc[sous_nutrition['Année'] == '2013-2015','Année'] = 2014\n",
    "sous_nutrition.loc[sous_nutrition['Année'] == '2014-2016','Année'] = 2015\n",
    "sous_nutrition.loc[sous_nutrition['Année'] == '2015-2017','Année'] = 2016\n",
    "sous_nutrition.loc[sous_nutrition['Année'] == '2016-2018','Année'] = 2017\n",
    "sous_nutrition = sous_nutrition.rename(columns = {'Année':'annee','Zone':'pays','Code zone':'code_pays','Valeur' : 'nb_personnes'})\n",
    "sous_nutrition = sous_nutrition[['pays','code_pays', 'annee', 'nb_personnes']] "
   ]
  },
  {
   "cell_type": "code",
   "execution_count": 84,
   "metadata": {},
   "outputs": [
    {
     "data": {
      "text/html": [
       "<div>\n",
       "<style scoped>\n",
       "    .dataframe tbody tr th:only-of-type {\n",
       "        vertical-align: middle;\n",
       "    }\n",
       "\n",
       "    .dataframe tbody tr th {\n",
       "        vertical-align: top;\n",
       "    }\n",
       "\n",
       "    .dataframe thead th {\n",
       "        text-align: right;\n",
       "    }\n",
       "</style>\n",
       "<table border=\"1\" class=\"dataframe\">\n",
       "  <thead>\n",
       "    <tr style=\"text-align: right;\">\n",
       "      <th></th>\n",
       "      <th>pays</th>\n",
       "      <th>code_pays</th>\n",
       "      <th>annee</th>\n",
       "      <th>nb_personnes</th>\n",
       "    </tr>\n",
       "  </thead>\n",
       "  <tbody>\n",
       "    <tr>\n",
       "      <th>0</th>\n",
       "      <td>Afghanistan</td>\n",
       "      <td>2</td>\n",
       "      <td>2013</td>\n",
       "      <td>7.9</td>\n",
       "    </tr>\n",
       "    <tr>\n",
       "      <th>1</th>\n",
       "      <td>Afghanistan</td>\n",
       "      <td>2</td>\n",
       "      <td>2014</td>\n",
       "      <td>8.8</td>\n",
       "    </tr>\n",
       "    <tr>\n",
       "      <th>2</th>\n",
       "      <td>Afghanistan</td>\n",
       "      <td>2</td>\n",
       "      <td>2015</td>\n",
       "      <td>9.6</td>\n",
       "    </tr>\n",
       "    <tr>\n",
       "      <th>3</th>\n",
       "      <td>Afghanistan</td>\n",
       "      <td>2</td>\n",
       "      <td>2016</td>\n",
       "      <td>10.2</td>\n",
       "    </tr>\n",
       "    <tr>\n",
       "      <th>4</th>\n",
       "      <td>Afghanistan</td>\n",
       "      <td>2</td>\n",
       "      <td>2017</td>\n",
       "      <td>10.6</td>\n",
       "    </tr>\n",
       "    <tr>\n",
       "      <th>...</th>\n",
       "      <td>...</td>\n",
       "      <td>...</td>\n",
       "      <td>...</td>\n",
       "      <td>...</td>\n",
       "    </tr>\n",
       "    <tr>\n",
       "      <th>995</th>\n",
       "      <td>Zimbabwe</td>\n",
       "      <td>181</td>\n",
       "      <td>2013</td>\n",
       "      <td>6.6</td>\n",
       "    </tr>\n",
       "    <tr>\n",
       "      <th>996</th>\n",
       "      <td>Zimbabwe</td>\n",
       "      <td>181</td>\n",
       "      <td>2014</td>\n",
       "      <td>7.2</td>\n",
       "    </tr>\n",
       "    <tr>\n",
       "      <th>997</th>\n",
       "      <td>Zimbabwe</td>\n",
       "      <td>181</td>\n",
       "      <td>2015</td>\n",
       "      <td>7.8</td>\n",
       "    </tr>\n",
       "    <tr>\n",
       "      <th>998</th>\n",
       "      <td>Zimbabwe</td>\n",
       "      <td>181</td>\n",
       "      <td>2016</td>\n",
       "      <td>8.2</td>\n",
       "    </tr>\n",
       "    <tr>\n",
       "      <th>999</th>\n",
       "      <td>Zimbabwe</td>\n",
       "      <td>181</td>\n",
       "      <td>2017</td>\n",
       "      <td>8.5</td>\n",
       "    </tr>\n",
       "  </tbody>\n",
       "</table>\n",
       "<p>1000 rows × 4 columns</p>\n",
       "</div>"
      ],
      "text/plain": [
       "            pays  code_pays annee  nb_personnes\n",
       "0    Afghanistan          2  2013           7.9\n",
       "1    Afghanistan          2  2014           8.8\n",
       "2    Afghanistan          2  2015           9.6\n",
       "3    Afghanistan          2  2016          10.2\n",
       "4    Afghanistan          2  2017          10.6\n",
       "..           ...        ...   ...           ...\n",
       "995     Zimbabwe        181  2013           6.6\n",
       "996     Zimbabwe        181  2014           7.2\n",
       "997     Zimbabwe        181  2015           7.8\n",
       "998     Zimbabwe        181  2016           8.2\n",
       "999     Zimbabwe        181  2017           8.5\n",
       "\n",
       "[1000 rows x 4 columns]"
      ]
     },
     "execution_count": 84,
     "metadata": {},
     "output_type": "execute_result"
    }
   ],
   "source": [
    "sous_nutrition"
   ]
  },
  {
   "cell_type": "markdown",
   "metadata": {},
   "source": [
    " "
   ]
  },
  {
   "cell_type": "markdown",
   "metadata": {},
   "source": [
    "### Exportation "
   ]
  },
  {
   "cell_type": "code",
   "execution_count": 85,
   "metadata": {},
   "outputs": [],
   "source": [
    "# DROP IF EXISTS\n",
    "c.execute('DROP TABLE IF EXISTS sous_nutrition')\n",
    "# Création de la table dispo_alim\n",
    "c.execute('''CREATE TABLE sous_nutrition (\n",
    "            pays TEXT,\n",
    "            code_pays INTEGER,\n",
    "            annee INTEGER,\n",
    "            nb_personnes REAL,\n",
    "            CONSTRAINT pays_annee PRIMARY KEY (code_pays, annee))''')\n",
    "conn.commit()"
   ]
  },
  {
   "cell_type": "code",
   "execution_count": 86,
   "metadata": {},
   "outputs": [],
   "source": [
    "sous_nutrition.to_sql(\"sous_nutrition\", conn, if_exists = \"append\", index = False)"
   ]
  },
  {
   "cell_type": "markdown",
   "metadata": {},
   "source": [
    " "
   ]
  },
  {
   "cell_type": "markdown",
   "metadata": {},
   "source": [
    " "
   ]
  },
  {
   "cell_type": "markdown",
   "metadata": {},
   "source": [
    " "
   ]
  },
  {
   "cell_type": "markdown",
   "metadata": {},
   "source": [
    "## Question 19 : SQL"
   ]
  },
  {
   "cell_type": "markdown",
   "metadata": {},
   "source": [
    " "
   ]
  },
  {
   "cell_type": "markdown",
   "metadata": {},
   "source": [
    "### Requête SQL : ratio kilocalorique (Top 10) "
   ]
  },
  {
   "cell_type": "markdown",
   "metadata": {},
   "source": [
    " "
   ]
  },
  {
   "cell_type": "code",
   "execution_count": 87,
   "metadata": {},
   "outputs": [
    {
     "data": {
      "text/plain": [
       "'\\nSELECT \\n    d.pays,\\n    d.code_pays,\\n    sum(d.dispo_alim_kcal_p_j) AS ratio_kcal\\nFROM \\n    dispo_alim d\\nGROUP BY \\n    d.pays\\nORDER BY\\n    ratio_kcal DESC\\nLIMIT 10\\n'"
      ]
     },
     "execution_count": 87,
     "metadata": {},
     "output_type": "execute_result"
    }
   ],
   "source": [
    "\"\"\"\n",
    "SELECT \n",
    "    d.pays,\n",
    "    d.code_pays,\n",
    "    sum(d.dispo_alim_kcal_p_j) AS ratio_kcal\n",
    "FROM \n",
    "    dispo_alim d\n",
    "GROUP BY \n",
    "    d.pays\n",
    "ORDER BY\n",
    "    ratio_kcal DESC\n",
    "LIMIT 10\n",
    "\"\"\""
   ]
  },
  {
   "cell_type": "markdown",
   "metadata": {},
   "source": [
    " "
   ]
  },
  {
   "cell_type": "markdown",
   "metadata": {},
   "source": [
    "### Requête SQL : ratio de protéines (Top 10) "
   ]
  },
  {
   "cell_type": "markdown",
   "metadata": {},
   "source": [
    " "
   ]
  },
  {
   "cell_type": "code",
   "execution_count": 88,
   "metadata": {},
   "outputs": [
    {
     "data": {
      "text/plain": [
       "'\\nSELECT \\n    d.pays,\\n    d.code_pays,\\n    sum((d.dispo_prot)/1000) AS ratio_proteines\\nFROM \\n    dispo_alim d\\nGROUP BY \\n    d.pays\\nORDER BY\\n    ratio_proteines DESC\\nLIMIT 10\\n'"
      ]
     },
     "execution_count": 88,
     "metadata": {},
     "output_type": "execute_result"
    }
   ],
   "source": [
    "\"\"\"\n",
    "SELECT \n",
    "    d.pays,\n",
    "    d.code_pays,\n",
    "    sum((d.dispo_prot)) AS ratio_proteines\n",
    "FROM \n",
    "    dispo_alim d\n",
    "GROUP BY \n",
    "    d.pays\n",
    "ORDER BY\n",
    "    ratio_proteines DESC\n",
    "LIMIT 10\n",
    "\"\"\""
   ]
  },
  {
   "cell_type": "markdown",
   "metadata": {},
   "source": [
    " "
   ]
  },
  {
   "cell_type": "markdown",
   "metadata": {},
   "source": [
    "### Requête SQL : ratio kilocalorique (Flop 10)  "
   ]
  },
  {
   "cell_type": "markdown",
   "metadata": {},
   "source": [
    " "
   ]
  },
  {
   "cell_type": "code",
   "execution_count": 89,
   "metadata": {},
   "outputs": [
    {
     "data": {
      "text/plain": [
       "'\\nSELECT \\n    d.pays,\\n    d.code_pays,\\n    d.annee,\\n    sum(d.dispo_alim_kcal_p_j) AS ratio_kcal\\nFROM \\n    dispo_alim d\\nGROUP BY \\n    d.pays\\nORDER BY\\n    ratio_kcal ASC\\nLIMIT 10\\n'"
      ]
     },
     "execution_count": 89,
     "metadata": {},
     "output_type": "execute_result"
    }
   ],
   "source": [
    "\"\"\"\n",
    "SELECT \n",
    "    d.pays,\n",
    "    d.code_pays,\n",
    "    d.annee,\n",
    "    sum(d.dispo_alim_kcal_p_j) AS ratio_kcal\n",
    "FROM \n",
    "    dispo_alim d\n",
    "GROUP BY \n",
    "    d.pays\n",
    "ORDER BY\n",
    "    ratio_kcal ASC\n",
    "LIMIT 10\n",
    "\"\"\""
   ]
  },
  {
   "cell_type": "markdown",
   "metadata": {},
   "source": [
    " "
   ]
  },
  {
   "cell_type": "markdown",
   "metadata": {},
   "source": [
    "### Requête SQL : ratio de protéines (Flop 10) "
   ]
  },
  {
   "cell_type": "markdown",
   "metadata": {},
   "source": [
    " "
   ]
  },
  {
   "cell_type": "code",
   "execution_count": 90,
   "metadata": {},
   "outputs": [
    {
     "data": {
      "text/plain": [
       "'\\nSELECT \\n    d.pays,\\n    d.code_pays,\\n    d.annee,\\n    sum((d.dispo_prot)/1000) AS ratio_proteines\\nFROM \\n    dispo_alim d\\nGROUP BY \\n    d.pays\\nORDER BY\\n    ratio_proteines ASC\\nLIMIT 10\\n'"
      ]
     },
     "execution_count": 90,
     "metadata": {},
     "output_type": "execute_result"
    }
   ],
   "source": [
    "\"\"\"\n",
    "SELECT \n",
    "    d.pays,\n",
    "    d.code_pays,\n",
    "    d.annee,\n",
    "    sum((d.dispo_prot)) AS ratio_proteines\n",
    "FROM \n",
    "    dispo_alim d\n",
    "GROUP BY \n",
    "    d.pays\n",
    "ORDER BY\n",
    "    ratio_proteines ASC\n",
    "LIMIT 10\n",
    "\"\"\""
   ]
  },
  {
   "cell_type": "markdown",
   "metadata": {},
   "source": [
    " "
   ]
  },
  {
   "cell_type": "markdown",
   "metadata": {},
   "source": [
    "### Requête SQL : pertes de produits en 2013"
   ]
  },
  {
   "cell_type": "markdown",
   "metadata": {},
   "source": [
    " "
   ]
  },
  {
   "cell_type": "code",
   "execution_count": 91,
   "metadata": {},
   "outputs": [
    {
     "data": {
      "text/plain": [
       "'\\nSELECT \\n    e.code_pays,\\n    e.pays,\\n    e.annee,\\n    sum(e.pertes)*1000 AS pertes\\nFROM \\n    equilibre_prod e\\nGROUP BY \\n    e.pays\\n'"
      ]
     },
     "execution_count": 91,
     "metadata": {},
     "output_type": "execute_result"
    }
   ],
   "source": [
    "\"\"\"\n",
    "SELECT \n",
    "    e.code_pays,\n",
    "    e.pays,\n",
    "    e.annee,\n",
    "    sum(e.pertes)*1000 AS pertes\n",
    "FROM \n",
    "    equilibre_prod e\n",
    "GROUP BY \n",
    "    e.pays\n",
    "\"\"\""
   ]
  },
  {
   "cell_type": "markdown",
   "metadata": {},
   "source": [
    " "
   ]
  },
  {
   "cell_type": "markdown",
   "metadata": {},
   "source": [
    "### Requête SQL : proportion des personnes sous-alimentées"
   ]
  },
  {
   "cell_type": "markdown",
   "metadata": {},
   "source": [
    " "
   ]
  },
  {
   "cell_type": "code",
   "execution_count": 92,
   "metadata": {},
   "outputs": [
    {
     "data": {
      "text/plain": [
       "'\\nSELECT \\n    s.code_pays,\\n    s.pays,\\n    sum((s.nb_personnes/(p.population)))*100 AS proportion_sous_nutrition\\nFROM \\n    sous_nutrition s\\nINNER JOIN \\n    population p \\n    ON p.annee = s.annee \\n    AND s.code_pays = p.code_pays\\nGROUP BY \\n    s.pays\\nORDER BY \\n    proportion_sous_nutrition DESC\\nLIMIT 10\\n'"
      ]
     },
     "execution_count": 92,
     "metadata": {},
     "output_type": "execute_result"
    }
   ],
   "source": [
    "\"\"\"\n",
    "SELECT \n",
    "    s.code_pays,\n",
    "    s.pays,\n",
    "    sum((s.nb_personnes/(p.population)))*100 AS proportion_sous_nutrition\n",
    "FROM \n",
    "    sous_nutrition s\n",
    "INNER JOIN \n",
    "    population p \n",
    "    ON p.annee = s.annee \n",
    "    AND s.code_pays = p.code_pays\n",
    "GROUP BY \n",
    "    s.pays\n",
    "ORDER BY \n",
    "    proportion_sous_nutrition DESC\n",
    "LIMIT 10\n",
    "\"\"\""
   ]
  },
  {
   "cell_type": "markdown",
   "metadata": {},
   "source": [
    " "
   ]
  },
  {
   "cell_type": "markdown",
   "metadata": {},
   "source": [
    "### Requête SQL : ratio Autres utilisations/Disponibilité intérieure (Top 10)"
   ]
  },
  {
   "cell_type": "markdown",
   "metadata": {},
   "source": [
    " "
   ]
  },
  {
   "cell_type": "code",
   "execution_count": 93,
   "metadata": {},
   "outputs": [
    {
     "data": {
      "text/plain": [
       "'\\nSELECT \\n    e.code_produit,\\n    e.produit,\\n    (sum(e.autres_utilisations)/sum(e.dispo_int))*100 AS ratio_autre\\nFROM \\n    equilibre_prod e\\nGROUP BY \\n    e.produit\\nORDER BY\\n    ratio_autre DESC\\nLIMIT 10\\n'"
      ]
     },
     "execution_count": 93,
     "metadata": {},
     "output_type": "execute_result"
    }
   ],
   "source": [
    "\"\"\"\n",
    "SELECT \n",
    "    e.code_produit,\n",
    "    e.produit,\n",
    "    (sum(e.autres_utilisations)/sum(e.dispo_int))*100 AS ratio_autre\n",
    "FROM \n",
    "    equilibre_prod e\n",
    "GROUP BY \n",
    "    e.produit\n",
    "ORDER BY\n",
    "    ratio_autre DESC\n",
    "LIMIT 10\n",
    "\"\"\""
   ]
  },
  {
   "cell_type": "markdown",
   "metadata": {},
   "source": [
    " "
   ]
  },
  {
   "cell_type": "markdown",
   "metadata": {},
   "source": [
    " "
   ]
  },
  {
   "cell_type": "markdown",
   "metadata": {},
   "source": [
    " "
   ]
  },
  {
   "cell_type": "markdown",
   "metadata": {},
   "source": [
    "## Question 20 : Autres utilisations "
   ]
  },
  {
   "cell_type": "markdown",
   "metadata": {},
   "source": [
    " "
   ]
  },
  {
   "cell_type": "markdown",
   "metadata": {},
   "source": [
    "### Alcool, non Comestible "
   ]
  },
  {
   "cell_type": "markdown",
   "metadata": {},
   "source": [
    "L'alcool non comestible, appelé également alcool éthylique, est utilisé dans une grande varité de domaines, notamment la médecine ou la cosmétologie. En effet, par exemple, l'alcool est le principal composant des gels hydroalcooliques. Pour qu'ils soient efficaces, il nous faut une teneur minimum en alcool à 60%.\n",
    "L'alcool éthylique est également utilisé pour la fabrication de l'éthanol. Ce dernier va pouvoir avoir des applications dans les domaines de la pharmaceutiques et la comestologie mais aussi comme combustible. L'éthanol est un biocarburant, alternative à l'essence, promeut comme bon pour la planète (meilleur que l'essence basé sur la production de pétrole), grâce à sa production à base de biomasse qui émet peu de gaz à effet de serre. \n",
    "\n",
    "Sources : https://medicament.ooreka.fr/astuce/voir/724967/alcool-a-70, https://www.alcool-bioethanol.net/alcool-traditionnel/,https://www.geo.fr/environnement/ethanol-biocarburant-47331"
   ]
  },
  {
   "cell_type": "markdown",
   "metadata": {},
   "source": [
    " "
   ]
  },
  {
   "cell_type": "markdown",
   "metadata": {},
   "source": [
    "### Huiles de Poissons "
   ]
  },
  {
   "cell_type": "markdown",
   "metadata": {},
   "source": [
    "L'huile de poissons est utilisé en particulier comme complément alimentaire, grâce à présence d'oméga 3 ayant de nombreux bienfaits pour le corps humain. Les oméga 3 permettent de prévenir les risques de maladie cardio-vasculaire. Cette caractérisque a amené l'industrie pharmaceutique à s'intéresser pour produire de nombreux médicaments.\n",
    "Ensuite, son utilisation s'étend à l'aquaculture. Son utilisation dans les élevages d'animaux aquatiques se situe dans l'alimentation. Couplé à des matières premières végétales comme le soja, le maïs, le blé, réduit à l'état de farines ou huiles, les farines ou huiles de poissons occupent la dernière dans leur alimentation (à hauteur de 20 à 40% sur les 100%). \n",
    "\n",
    "Sources : https://alimentation.ooreka.fr/astuce/voir/594857/huile-de-poisson, https://fr.wikipedia.org/wiki/Huile_de_poisson, https://www.poisson-aquaculture.fr/laquaculture/alimentation/"
   ]
  },
  {
   "cell_type": "markdown",
   "metadata": {},
   "source": [
    " "
   ]
  },
  {
   "cell_type": "markdown",
   "metadata": {},
   "source": [
    "### Seigle "
   ]
  },
  {
   "cell_type": "markdown",
   "metadata": {},
   "source": [
    "Le seigle est une céréale faisant partie de la famille des Poacées, très résistantes aux maladies et au froid, sa cultivation reste importante en Europe de l'Est. Le seigle peut être utilisé pour l'alimentation animale (bovins, porcs, volailles, chevaux) mais aussi pour des produits utilisant de la paille, par exemple, des chaises avec une assise en paille. Ainsi, nous pouvons avoir toutes sortes de produits comportant du seigle comme des toitures ou l'isolation d'une toiture, des paillassons, ou encore des paillasses de lit. En outre, une entreprise en Normandie promeut le seigle comme une alternative au plastique en fabriquant des pailles en seigle.\n",
    "\n",
    "Sources : https://jardinage.ooreka.fr/plante/voir/1999/seigle, https://fr.wikipedia.org/wiki/Seigle#Culture,"
   ]
  }
 ],
 "metadata": {
  "celltoolbar": "Format de la Cellule Texte Brut",
  "kernelspec": {
   "display_name": "Python 3",
   "language": "python",
   "name": "python3"
  },
  "language_info": {
   "codemirror_mode": {
    "name": "ipython",
    "version": 3
   },
   "file_extension": ".py",
   "mimetype": "text/x-python",
   "name": "python",
   "nbconvert_exporter": "python",
   "pygments_lexer": "ipython3",
   "version": "3.8.3"
  }
 },
 "nbformat": 4,
 "nbformat_minor": 4
}
